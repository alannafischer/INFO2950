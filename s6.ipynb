{
 "cells": [
  {
   "cell_type": "markdown",
   "metadata": {},
   "source": [
    "Alanna Fischer aef222\n",
    "\n",
    "Problem Set #6\n",
    "\n",
    "Worked in several office hours with several different TA's as well as wjnp49, worked on #5 with a friend and it was working at the time but now it isn't is there any way i can get more time to see what is wrong?"
   ]
  },
  {
   "cell_type": "markdown",
   "metadata": {
    "collapsed": true
   },
   "source": [
    "# Question 1"
   ]
  },
  {
   "cell_type": "code",
   "execution_count": 13,
   "metadata": {
    "collapsed": false
   },
   "outputs": [
    {
     "name": "stdout",
     "output_type": "stream",
     "text": [
      "and 5090.0\n",
      "cheesecloth 0.6108\n",
      "names 15.27\n",
      "she 477.1875\n",
      "of 7635.0\n",
      "men 152.7\n",
      "calves 1.527\n",
      "he 1527.0\n",
      "and 199.999999998\n",
      "cheesecloth 0.609868257156\n",
      "names 14.7016244704\n",
      "she 181.599462677\n",
      "of 200.0\n",
      "men 106.793508873\n",
      "calves 1.52118548485\n",
      "he 199.903352277\n",
      "14.297752809 13.7986523428 1067\n",
      "0.5 133\n",
      "0.75 10\n"
     ]
    }
   ],
   "source": [
    "import re\n",
    "import numpy as np\n",
    "from collections import Counter\n",
    "from scipy.stats import norm\n",
    "from scipy.stats import poisson\n",
    "from scipy.misc import factorial\n",
    "import random\n",
    "def poiss(m,z=1): return np.exp(-z)*z**m/factorial(m)\n",
    "\n",
    "\n",
    "word = {\"of\":2, \"and\":3, \"he\":10, \"she\":32, \"men\":100, \"names\":1000, \"calves\":10000, \"cheesecloth\":25000}\n",
    "prob = {}\n",
    "for key in word:\n",
    "    a = 1.0/word[key]*15270\n",
    "    print key, a\n",
    "    prob[key] = a/(200*800)\n",
    "\n",
    "\n",
    "\n",
    "for key in word:\n",
    "    print key, (1-poiss(0,prob[key]*800)) * 200\n",
    "    \n",
    "\n",
    "for rank in np.arange(25000):\n",
    "    tot = 1./(rank+1)*15270\n",
    "    doc_num = (1-poiss(0,((1./(rank+1)*15270)/(200)))) * 200\n",
    "    if (tot <= doc_num + .5) & (tot >= doc_num - .5):\n",
    "        print tot, doc_num, rank\n",
    "        break\n",
    "        \n",
    "\n",
    "cummulative_prob = 0;\n",
    "for rank in np.arange(25000):\n",
    "    index_2 = 25000 - rank;\n",
    "    cummulative_prob += ((1./index_2)*15270)/(200*800);\n",
    "    if (cummulative_prob >= 0.5) & (cummulative_prob <= 0.5001):\n",
    "        print 0.5, index_2\n",
    "    if (cummulative_prob >= 0.75) & (cummulative_prob <= 0.76):\n",
    "        print 0.75, index_2"
   ]
  },
  {
   "cell_type": "markdown",
   "metadata": {},
   "source": [
    "I."
   ]
  },
  {
   "cell_type": "markdown",
   "metadata": {
    "collapsed": false
   },
   "source": [
    "and - 5090.0\n",
    "\n",
    "cheesecloth - 0.6108\n",
    "\n",
    "names - 15.27 \n",
    "\n",
    "she - 477.1875\n",
    "\n",
    "of - 7635.0\n",
    "\n",
    "the - 15270.0\n",
    "\n",
    "men - 152.7\n",
    "\n",
    "calves - 1.527\n",
    "\n",
    "he - 1527.0"
   ]
  },
  {
   "cell_type": "markdown",
   "metadata": {},
   "source": [
    "II."
   ]
  },
  {
   "cell_type": "markdown",
   "metadata": {
    "collapsed": true
   },
   "source": [
    "and = 200 docs\n",
    "\n",
    "cheesecloth = 0.609868257156 docs\n",
    "\n",
    "names ~ 15 docs\n",
    "\n",
    "she ~ 182 docs\n",
    "\n",
    "of 200 = docs\n",
    "\n",
    "the 200 = docs\n",
    "\n",
    "men 107 = docs\n",
    "\n",
    "calves = 1.5 docs\n",
    "\n",
    "he 200 = docs"
   ]
  },
  {
   "cell_type": "markdown",
   "metadata": {},
   "source": [
    "III."
   ]
  },
  {
   "cell_type": "markdown",
   "metadata": {
    "collapsed": true
   },
   "source": [
    "From approximately the 1st - 1067th ranked word "
   ]
  },
  {
   "cell_type": "markdown",
   "metadata": {},
   "source": [
    "IV."
   ]
  },
  {
   "cell_type": "markdown",
   "metadata": {
    "collapsed": true
   },
   "source": [
    "1/2 corpus - Up to the 133th ranked word\n",
    "\n",
    "3/4 corpus - Up to the 10th ranked word"
   ]
  },
  {
   "cell_type": "markdown",
   "metadata": {},
   "source": [
    "# Question 2 "
   ]
  },
  {
   "cell_type": "markdown",
   "metadata": {},
   "source": [
    "A)"
   ]
  },
  {
   "cell_type": "code",
   "execution_count": 14,
   "metadata": {
    "collapsed": false
   },
   "outputs": [
    {
     "name": "stdout",
     "output_type": "stream",
     "text": [
      "7500000.0\n"
     ]
    }
   ],
   "source": [
    "N= 7.5 * (10**6)\n",
    "print (N)\n",
    "r= np.arange(.1*N,N)"
   ]
  },
  {
   "cell_type": "code",
   "execution_count": 15,
   "metadata": {
    "collapsed": false
   },
   "outputs": [
    {
     "name": "stdout",
     "output_type": "stream",
     "text": [
      "15.5809512974\n",
      "53.1056038583\n",
      "0.293395614876\n"
     ]
    }
   ],
   "source": [
    "k= 0.87\n",
    "numerator=0\n",
    "denomenator= 0\n",
    "\n",
    "for r in np.arange(0.1*N, N+1):\n",
    "    numerator= numerator + r**(-k)\n",
    "print (numerator)\n",
    "\n",
    "for r in np.arange(1, N+1):\n",
    "    denomenator = denomenator + r**(-k)\n",
    "print (denomenator)\n",
    "\n",
    "print numerator/denomenator"
   ]
  },
  {
   "cell_type": "code",
   "execution_count": 16,
   "metadata": {
    "collapsed": false
   },
   "outputs": [
    {
     "name": "stdout",
     "output_type": "stream",
     "text": [
      "8.82483184015e-05\n",
      "2.05426676006\n",
      "4.29585485767e-05\n"
     ]
    }
   ],
   "source": [
    "k=1.7\n",
    "numerator=0\n",
    "denomenator= 0\n",
    "\n",
    "for r in np.arange(0.1*N, N+1):\n",
    "    numerator= numerator + r**(-k)\n",
    "print (numerator)\n",
    "\n",
    "for r in np.arange(1, N+1):\n",
    "    denomenator = denomenator + r**(-k)\n",
    "print (denomenator)\n",
    "\n",
    "print numerator/denomenator"
   ]
  },
  {
   "cell_type": "markdown",
   "metadata": {},
   "source": [
    "B)"
   ]
  },
  {
   "cell_type": "code",
   "execution_count": null,
   "metadata": {
    "collapsed": true
   },
   "outputs": [],
   "source": []
  },
  {
   "cell_type": "markdown",
   "metadata": {},
   "source": [
    "# Question 3"
   ]
  },
  {
   "cell_type": "markdown",
   "metadata": {},
   "source": [
    "A)"
   ]
  },
  {
   "cell_type": "markdown",
   "metadata": {},
   "source": [
    "x increase by 10^1 \n",
    "\n",
    "y increased by 10^1/2\n",
    "\n",
    "(1/2)/1 = 1/2\n",
    "\n",
    "k=1/2"
   ]
  },
  {
   "cell_type": "markdown",
   "metadata": {},
   "source": [
    "B)"
   ]
  },
  {
   "cell_type": "code",
   "execution_count": 17,
   "metadata": {
    "collapsed": false
   },
   "outputs": [
    {
     "data": {
      "text/plain": [
       "Counter({'11': 1,\n",
       "         '12': 1,\n",
       "         '1990s': 1,\n",
       "         '2015': 1,\n",
       "         '2017': 1,\n",
       "         '29': 1,\n",
       "         '32': 1,\n",
       "         '38': 1,\n",
       "         '43': 1,\n",
       "         '50': 1,\n",
       "         '51': 1,\n",
       "         '53': 1,\n",
       "         '7': 1,\n",
       "         'a': 1,\n",
       "         'abject': 1,\n",
       "         'about': 1,\n",
       "         'achievement': 1,\n",
       "         'act': 1,\n",
       "         'activists': 1,\n",
       "         'actually': 1,\n",
       "         'addition': 1,\n",
       "         'adds': 1,\n",
       "         'administration': 1,\n",
       "         \"administration's\": 1,\n",
       "         'administrators': 1,\n",
       "         'advocating': 1,\n",
       "         'after': 1,\n",
       "         'against': 1,\n",
       "         'alaska': 1,\n",
       "         'all': 1,\n",
       "         'allowing': 1,\n",
       "         'am': 1,\n",
       "         'america': 1,\n",
       "         'among': 1,\n",
       "         'an': 1,\n",
       "         'and': 1,\n",
       "         'another': 1,\n",
       "         'anything': 1,\n",
       "         'appalachia': 1,\n",
       "         'appear': 1,\n",
       "         'appreciates': 1,\n",
       "         'are': 1,\n",
       "         'argument': 1,\n",
       "         'as': 1,\n",
       "         'at': 1,\n",
       "         'bannon': 1,\n",
       "         'be': 1,\n",
       "         'bears': 1,\n",
       "         'been': 1,\n",
       "         'behind': 1,\n",
       "         'berry': 1,\n",
       "         'bete': 1,\n",
       "         'betrayal': 1,\n",
       "         'betsy': 1,\n",
       "         'bipartisan': 1,\n",
       "         'blue': 1,\n",
       "         'board': 1,\n",
       "         'boss': 1,\n",
       "         'both': 1,\n",
       "         'bought': 1,\n",
       "         'breaking': 1,\n",
       "         'breitbart': 1,\n",
       "         'bring': 1,\n",
       "         'broken': 1,\n",
       "         'bucking': 1,\n",
       "         'bumpy': 1,\n",
       "         'bush': 1,\n",
       "         \"bush's\": 1,\n",
       "         'but': 1,\n",
       "         'by': 1,\n",
       "         'cabinet': 1,\n",
       "         'called': 1,\n",
       "         \"can't\": 1,\n",
       "         'cannot': 1,\n",
       "         'case': 1,\n",
       "         'cases': 1,\n",
       "         'cast': 1,\n",
       "         'championing': 1,\n",
       "         'charter': 1,\n",
       "         'charterization': 1,\n",
       "         'charters': 1,\n",
       "         'child': 1,\n",
       "         'choice': 1,\n",
       "         'choices': 1,\n",
       "         'choosing': 1,\n",
       "         'circle': 1,\n",
       "         'cities': 1,\n",
       "         'citing': 1,\n",
       "         'cleared': 1,\n",
       "         'clinton': 1,\n",
       "         'closest': 1,\n",
       "         'clout': 1,\n",
       "         'coincidentally': 1,\n",
       "         'collins': 1,\n",
       "         'come': 1,\n",
       "         'common': 1,\n",
       "         'communities': 1,\n",
       "         'company': 1,\n",
       "         'compared': 1,\n",
       "         'concentration': 1,\n",
       "         'concerns': 1,\n",
       "         'concluded': 1,\n",
       "         'confirm': 1,\n",
       "         'confirmation': 1,\n",
       "         'congress': 1,\n",
       "         'conscience': 1,\n",
       "         'conservative': 1,\n",
       "         'conservatives': 1,\n",
       "         'constituency': 1,\n",
       "         'control': 1,\n",
       "         'controls': 1,\n",
       "         'controversial': 1,\n",
       "         'core': 1,\n",
       "         'country': 1,\n",
       "         'coupled': 1,\n",
       "         'dakota': 1,\n",
       "         'debates': 1,\n",
       "         'decision': 1,\n",
       "         'declarations': 1,\n",
       "         'declared': 1,\n",
       "         'defecting': 1,\n",
       "         'defending': 1,\n",
       "         'definitely': 1,\n",
       "         'democrat': 1,\n",
       "         'democratic': 1,\n",
       "         'despite': 1,\n",
       "         'devos': 1,\n",
       "         \"devos'\": 1,\n",
       "         'did': 1,\n",
       "         \"didn't\": 1,\n",
       "         'dint': 1,\n",
       "         'disdain': 1,\n",
       "         'distinguishes': 1,\n",
       "         'divided': 1,\n",
       "         'do': 1,\n",
       "         'doctrine': 1,\n",
       "         \"don't\": 1,\n",
       "         'donald': 1,\n",
       "         'down': 1,\n",
       "         'driving': 1,\n",
       "         'education': 1,\n",
       "         \"education's\": 1,\n",
       "         'either': 1,\n",
       "         'election': 1,\n",
       "         'end': 1,\n",
       "         'enmity': 1,\n",
       "         'entire': 1,\n",
       "         'equation': 1,\n",
       "         'erin': 1,\n",
       "         'every': 1,\n",
       "         'exactly': 1,\n",
       "         'expect': 1,\n",
       "         'expected': 1,\n",
       "         'explaining': 1,\n",
       "         'falling': 1,\n",
       "         'far': 1,\n",
       "         'favorite': 1,\n",
       "         'feature': 1,\n",
       "         'feb': 1,\n",
       "         'fewer': 1,\n",
       "         'first': 1,\n",
       "         'fix': 1,\n",
       "         'flank': 1,\n",
       "         'floor': 1,\n",
       "         'focus': 1,\n",
       "         'focused': 1,\n",
       "         'for': 1,\n",
       "         'forgiveness': 1,\n",
       "         'former': 1,\n",
       "         'four': 1,\n",
       "         'fringe': 1,\n",
       "         'from': 1,\n",
       "         'fully': 1,\n",
       "         'futile': 1,\n",
       "         'given': 1,\n",
       "         'good': 1,\n",
       "         'gop': 1,\n",
       "         'government': 1,\n",
       "         'governorship': 1,\n",
       "         'great': 1,\n",
       "         'grizzly': 1,\n",
       "         'groundswell': 1,\n",
       "         'guns': 1,\n",
       "         'handful': 1,\n",
       "         'has': 1,\n",
       "         'have': 1,\n",
       "         \"haven't\": 1,\n",
       "         'having': 1,\n",
       "         'he': 1,\n",
       "         'hearing': 1,\n",
       "         'held': 1,\n",
       "         'helping': 1,\n",
       "         'her': 1,\n",
       "         \"here's\": 1,\n",
       "         'hillary': 1,\n",
       "         'hired': 1,\n",
       "         'his': 1,\n",
       "         'history': 1,\n",
       "         'home': 1,\n",
       "         'hoosiers': 1,\n",
       "         'hope': 1,\n",
       "         'house': 1,\n",
       "         'houses': 1,\n",
       "         'how': 1,\n",
       "         'i': 1,\n",
       "         'if': 1,\n",
       "         'immersed': 1,\n",
       "         'implementing': 1,\n",
       "         'important': 1,\n",
       "         'in': 1,\n",
       "         'includes': 1,\n",
       "         'incur': 1,\n",
       "         'inner': 1,\n",
       "         'intervention': 1,\n",
       "         'into': 1,\n",
       "         'involved': 1,\n",
       "         'is': 1,\n",
       "         \"isn't\": 1,\n",
       "         'it': 1,\n",
       "         \"it's\": 1,\n",
       "         'j': 1,\n",
       "         'jeb': 1,\n",
       "         'just': 1,\n",
       "         'keep': 1,\n",
       "         'kentucky': 1,\n",
       "         'kicked': 1,\n",
       "         'known': 1,\n",
       "         'lambasting': 1,\n",
       "         'largely': 1,\n",
       "         'last': 1,\n",
       "         'left': 1,\n",
       "         'legislature': 1,\n",
       "         'less': 1,\n",
       "         \"let's\": 1,\n",
       "         'liberals': 1,\n",
       "         'life': 1,\n",
       "         'like': 1,\n",
       "         'likely': 1,\n",
       "         'lisa': 1,\n",
       "         'list': 1,\n",
       "         'looks': 1,\n",
       "         'm': 1,\n",
       "         'made': 1,\n",
       "         'maine': 1,\n",
       "         'many': 1,\n",
       "         'may': 1,\n",
       "         'members': 1,\n",
       "         'mention': 1,\n",
       "         'mike': 1,\n",
       "         'moderates': 1,\n",
       "         'monday': 1,\n",
       "         'montana': 1,\n",
       "         'month': 1,\n",
       "         'more': 1,\n",
       "         'most': 1,\n",
       "         'mostly': 1,\n",
       "         'movement': 1,\n",
       "         'murkowski': 1,\n",
       "         'must': 1,\n",
       "         \"nation's\": 1,\n",
       "         'nationalists': 1,\n",
       "         'nebraska': 1,\n",
       "         'needs': 1,\n",
       "         'new': 1,\n",
       "         'next': 1,\n",
       "         'no': 1,\n",
       "         'noire': 1,\n",
       "         'nomination': 1,\n",
       "         'nominee': 1,\n",
       "         'nominees': 1,\n",
       "         'north': 1,\n",
       "         'not': 1,\n",
       "         'note': 1,\n",
       "         'now': 1,\n",
       "         'number': 1,\n",
       "         'of': 1,\n",
       "         'off': 1,\n",
       "         'on': 1,\n",
       "         'one': 1,\n",
       "         'only': 1,\n",
       "         'operation': 1,\n",
       "         'opposition': 1,\n",
       "         'or': 1,\n",
       "         'other': 1,\n",
       "         'our': 1,\n",
       "         'out': 1,\n",
       "         'outrage': 1,\n",
       "         'outright': 1,\n",
       "         'over': 1,\n",
       "         'p': 1,\n",
       "         'parents': 1,\n",
       "         \"parents'\": 1,\n",
       "         'party': 1,\n",
       "         'pence': 1,\n",
       "         'people': 1,\n",
       "         'percent': 1,\n",
       "         'place': 1,\n",
       "         'plains': 1,\n",
       "         'pledge': 1,\n",
       "         'pointing': 1,\n",
       "         'policies': 1,\n",
       "         'policy': 1,\n",
       "         'politico': 1,\n",
       "         'powerful': 1,\n",
       "         'presence': 1,\n",
       "         'president': 1,\n",
       "         \"president's\": 1,\n",
       "         'press': 1,\n",
       "         'primary': 1,\n",
       "         'probably': 1,\n",
       "         'progressive': 1,\n",
       "         'proved': 1,\n",
       "         'public': 1,\n",
       "         'push': 1,\n",
       "         'put': 1,\n",
       "         'question': 1,\n",
       "         'quite': 1,\n",
       "         'racists': 1,\n",
       "         'radar': 1,\n",
       "         'raised': 1,\n",
       "         'rather': 1,\n",
       "         'reach': 1,\n",
       "         'realize': 1,\n",
       "         'reddest': 1,\n",
       "         'reforming': 1,\n",
       "         'reliant': 1,\n",
       "         'remember': 1,\n",
       "         'represented': 1,\n",
       "         'republican': 1,\n",
       "         'republicans': 1,\n",
       "         'requirements': 1,\n",
       "         'resistance': 1,\n",
       "         'resisting': 1,\n",
       "         'rest': 1,\n",
       "         'right': 1,\n",
       "         'rights': 1,\n",
       "         'rural': 1,\n",
       "         'said': 1,\n",
       "         'says': 1,\n",
       "         'school': 1,\n",
       "         'schools': 1,\n",
       "         'secretary': 1,\n",
       "         'secure': 1,\n",
       "         'see': 1,\n",
       "         'seed': 1,\n",
       "         'seemed': 1,\n",
       "         'seems': 1,\n",
       "         'selling': 1,\n",
       "         'senate': 1,\n",
       "         'senator': 1,\n",
       "         'senators': 1,\n",
       "         \"senators'\": 1,\n",
       "         'serious': 1,\n",
       "         'seven': 1,\n",
       "         'shared': 1,\n",
       "         'she': 1,\n",
       "         \"she's\": 1,\n",
       "         'short': 1,\n",
       "         'side': 1,\n",
       "         'singled': 1,\n",
       "         'slow': 1,\n",
       "         'small': 1,\n",
       "         'so': 1,\n",
       "         'some': 1,\n",
       "         'something': 1,\n",
       "         'sound': 1,\n",
       "         'south': 1,\n",
       "         'speaking': 1,\n",
       "         'spot': 1,\n",
       "         'staffers': 1,\n",
       "         'state': 1,\n",
       "         'statement': 1,\n",
       "         'states': 1,\n",
       "         'steve': 1,\n",
       "         'still': 1,\n",
       "         'story': 1,\n",
       "         'strengthen': 1,\n",
       "         'student': 1,\n",
       "         'students': 1,\n",
       "         'succeeded': 1,\n",
       "         'succeeds': 1,\n",
       "         'successful': 1,\n",
       "         'successor': 1,\n",
       "         'susan': 1,\n",
       "         'sweep': 1,\n",
       "         'take': 1,\n",
       "         'talk': 1,\n",
       "         'teachers': 1,\n",
       "         'term': 1,\n",
       "         'than': 1,\n",
       "         'that': 1,\n",
       "         \"that's\": 1,\n",
       "         'the': 1,\n",
       "         'their': 1,\n",
       "         'them': 1,\n",
       "         'there': 1,\n",
       "         \"there's\": 1,\n",
       "         'these': 1,\n",
       "         'they': 1,\n",
       "         \"they're\": 1,\n",
       "         'thing': 1,\n",
       "         'third': 1,\n",
       "         'this': 1,\n",
       "         'thon': 1,\n",
       "         'those': 1,\n",
       "         'though': 1,\n",
       "         'three': 1,\n",
       "         'through': 1,\n",
       "         'tie': 1,\n",
       "         'time': 1,\n",
       "         'to': 1,\n",
       "         'today': 1,\n",
       "         'too': 1,\n",
       "         'traditional': 1,\n",
       "         'trump': 1,\n",
       "         \"trump's\": 1,\n",
       "         'trying': 1,\n",
       "         'tuttle': 1,\n",
       "         'two': 1,\n",
       "         'unaware': 1,\n",
       "         'under': 1,\n",
       "         'understand': 1,\n",
       "         'unhappy': 1,\n",
       "         'union': 1,\n",
       "         'united': 1,\n",
       "         'unites': 1,\n",
       "         'unity': 1,\n",
       "         'unlikely': 1,\n",
       "         'up': 1,\n",
       "         'update': 1,\n",
       "         'vermont': 1,\n",
       "         'vice': 1,\n",
       "         'virginia': 1,\n",
       "         'vote': 1,\n",
       "         'voted': 1,\n",
       "         'vouchers': 1,\n",
       "         'was': 1,\n",
       "         'week': 1,\n",
       "         'weeks': 1,\n",
       "         'west': 1,\n",
       "         'what': 1,\n",
       "         'where': 1,\n",
       "         'whether': 1,\n",
       "         'which': 1,\n",
       "         'who': 1,\n",
       "         'whose': 1,\n",
       "         'why': 1,\n",
       "         'wields': 1,\n",
       "         'will': 1,\n",
       "         'with': 1,\n",
       "         \"won't\": 1,\n",
       "         'words': 1,\n",
       "         'would': 1,\n",
       "         'writer': 1,\n",
       "         'writers': 1,\n",
       "         'wrote': 1,\n",
       "         'xenophobes': 1,\n",
       "         'years': 1,\n",
       "         'yes': 1,\n",
       "         'you': 1})"
      ]
     },
     "execution_count": 17,
     "metadata": {},
     "output_type": "execute_result"
    }
   ],
   "source": [
    "ptexts=[open('ps2data/p{}.txt'.format(i)).read() for i in range(30)]\n",
    "stexts=[open('ps2data/s{}.txt'.format(i)).read() for i in range(30)]\n",
    "ttexts=[open('ps2data/t{}.txt'.format(i)).read() for i in range(10)]\n",
    "\n",
    "import re\n",
    "\n",
    "from collections import Counter\n",
    "Counter(set(re.findall(\"[a-z0-9']+\",ptexts[0].lower())))"
   ]
  },
  {
   "cell_type": "code",
   "execution_count": 18,
   "metadata": {
    "collapsed": false
   },
   "outputs": [],
   "source": [
    "total_texts = ptexts + stexts + ttexts"
   ]
  },
  {
   "cell_type": "code",
   "execution_count": 19,
   "metadata": {
    "collapsed": false
   },
   "outputs": [
    {
     "name": "stdout",
     "output_type": "stream",
     "text": [
      "76382\n",
      "[983, 1752, 3348, 3988, 4760, 6003, 6744, 7544, 8440, 9828, 10603, 11472, 12611, 13687, 14598, 15655, 17174, 17996, 18797, 19700, 20477, 21293, 22125, 22863, 23969, 25206, 26182, 27271, 28479, 29511, 30367, 31525, 32650, 34062, 34960, 36175, 37698, 38639, 40278, 41439, 42748, 44371, 45796, 46871, 48149, 49374, 50547, 51651, 52329, 52937, 53908, 55146, 56173, 57211, 58309, 59690, 60667, 61923, 63296, 64554, 65562, 66737, 68067, 69304, 70414, 71710, 72644, 73615, 74756, 76382]\n",
      "10148\n",
      "[460, 726, 1146, 1340, 1558, 1860, 2029, 2179, 2343, 2669, 2885, 3031, 3237, 3434, 3565, 3694, 3897, 4016, 4142, 4224, 4314, 4409, 4493, 4568, 4731, 4875, 5075, 5182, 5294, 5384, 5506, 5676, 5848, 6059, 6193, 6396, 6581, 6646, 6764, 6951, 7126, 7347, 7416, 7575, 7680, 7796, 7876, 7982, 8085, 8134, 8228, 8353, 8462, 8562, 8665, 8810, 8891, 8977, 9115, 9236, 9311, 9411, 9507, 9629, 9730, 9801, 9862, 9932, 9993, 10148]\n"
     ]
    }
   ],
   "source": [
    "total_number_of_words=0\n",
    "list_of_words=[]\n",
    "list_of_distincts = []\n",
    "\n",
    "k = set()\n",
    "for text in total_texts:\n",
    "    total_number_of_words += len(re.findall(\"[a-z0-9']+\",text.lower()))\n",
    "    list_of_words.append(total_number_of_words)\n",
    "    k=set(k.union(set(re.findall(\"[a-z0-9']+\",text.lower()))))\n",
    "    total_number_of_distinct_words = len(k)\n",
    "    list_of_distincts.append(total_number_of_distinct_words)\n",
    "    \n",
    "print(total_number_of_words)\n",
    "print(list_of_words)\n",
    "print(total_number_of_distinct_words)\n",
    "print(list_of_distincts)"
   ]
  },
  {
   "cell_type": "code",
   "execution_count": 22,
   "metadata": {
    "collapsed": false
   },
   "outputs": [
    {
     "data": {
      "image/png": "[encoded data removed]",
      "text/plain": [
       "<matplotlib.figure.Figure at 0x10c896ad0>"
      ]
     },
     "metadata": {},
     "output_type": "display_data"
    },
    {
     "data": {
      "image/png": "[encoded data removed]",
      "text/plain": [
       "<matplotlib.figure.Figure at 0x10c896710>"
      ]
     },
     "metadata": {},
     "output_type": "display_data"
    }
   ],
   "source": [
    "xdata = list_of_words\n",
    "from scipy.stats import linregress\n",
    "from scipy import stats\n",
    "\n",
    "\n",
    "\n",
    "%matplotlib inline\n",
    "import matplotlib.pyplot as plt\n",
    "import numpy as np\n",
    "xdata = list_of_words\n",
    "\n",
    "\n",
    "plt.plot(xdata,np.exp(intercept)*xdata**slope,'r',lw=2)\n",
    "logxdata,logydata = map(np.log,(list_of_words,list_of_distincts))\n",
    "slope, intercept, r_value, p_value, std_err = stats.linregress(logxdata,logydata)\n",
    "\n",
    "plt.figure(figsize=(8.5,4))\n",
    "plt.subplot(1,2,1)\n",
    "plt.xlabel('Total Words'), plt.ylabel('Distinct Words')\n",
    "plt.plot(list_of_words,list_of_distincts,'.-')\n",
    "plt.plot(xdata,np.exp(intercept)*xdata**slope,'r',lw=2)\n",
    "plt.legend(['Shakespeare','$V=AT^c$'],loc='upper left');\n",
    "\n",
    "plt.subplot(1,2,2)\n",
    "plt.xlabel('Total Words'), plt.ylabel('Distinct Words')\n",
    "plt.loglog(list_of_words,list_of_distincts,'.-')\n",
    "plt.plot(xdata,np.exp(intercept)*xdata**slope,'r',lw=2)\n",
    "plt.legend(['Shakespeare','$V=AT^c$ power law'])\n",
    "plt.tight_layout();"
   ]
  },
  {
   "cell_type": "markdown",
   "metadata": {},
   "source": [
    "# Queston 4"
   ]
  },
  {
   "cell_type": "code",
   "execution_count": 23,
   "metadata": {
    "collapsed": false
   },
   "outputs": [],
   "source": [
    "import random\n",
    "N = 100000\n",
    "z = 5;\n",
    "E = set()\n",
    "L = N*z/2.\n",
    "\n",
    "while(len(E)<L):\n",
    "    E.add(tuple(random.sample(xrange(N),2)))"
   ]
  },
  {
   "cell_type": "markdown",
   "metadata": {},
   "source": [
    "A)"
   ]
  },
  {
   "cell_type": "markdown",
   "metadata": {},
   "source": [
    "I."
   ]
  },
  {
   "cell_type": "code",
   "execution_count": 29,
   "metadata": {
    "collapsed": false
   },
   "outputs": [
    {
     "name": "stdout",
     "output_type": "stream",
     "text": [
      "673.794699909\n",
      "713\n"
     ]
    }
   ],
   "source": [
    "x = [];\n",
    "for edge in E:\n",
    "    for a in edge:\n",
    "        x.append(a)\n",
    "degree = Counter(x)\n",
    "\n",
    "\n",
    "print poiss(0,5)*100000\n",
    "\n",
    "\n",
    "print 100000 - len(degree)"
   ]
  },
  {
   "cell_type": "markdown",
   "metadata": {},
   "source": [
    "II."
   ]
  },
  {
   "cell_type": "code",
   "execution_count": 36,
   "metadata": {
    "collapsed": false
   },
   "outputs": [
    {
     "name": "stdout",
     "output_type": "stream",
     "text": [
      "5.03590600985\n",
      "2.20333928168\n",
      "5.0\n",
      "2.2360679775\n"
     ]
    }
   ],
   "source": [
    "val= []\n",
    "degree= Counter(val)\n",
    "\n",
    "for value in degree.values():\n",
    "    val.append(value)\n",
    "mean=np.mean(degrees.values())\n",
    "std=np.std(degrees.values())\n",
    "\n",
    "print (mean)\n",
    "print (std)\n",
    "print (2*L/N)\n",
    "print (np.power(2*L/N, 0.5))"
   ]
  },
  {
   "cell_type": "markdown",
   "metadata": {},
   "source": [
    "III."
   ]
  },
  {
   "cell_type": "code",
   "execution_count": 55,
   "metadata": {
    "collapsed": false
   },
   "outputs": [
    {
     "data": {
      "image/png": "[encoded data removed]",
      "text/plain": [
       "<matplotlib.figure.Figure at 0x10c9ef5d0>"
      ]
     },
     "metadata": {},
     "output_type": "display_data"
    }
   ],
   "source": [
    "degrees_1 = degrees.values()\n",
    "zero = 100000 - len(degrees)\n",
    "degrees_1 = degrees_1 + [0]*zero\n",
    "\n",
    "\n",
    "maxdegree = max(degrees_1)\n",
    "poissx = np.arange(0, maxdegree+1)\n",
    "poissy = []\n",
    "erry = []\n",
    "for x in poissx:\n",
    "    poissy.append(poiss(x,5)*N)\n",
    "    erry.append(np.sqrt(poiss(x,5) * (1-poiss(x,5)) * N))\n",
    "    \n",
    "plt.hist(degrees_1, np.arange(-.5,maxdegree+1), label=\"data\");\n",
    "plt.axis([-1,20,0,20000]);\n",
    "plt.errorbar(poissx, poissy, erry, fmt = '-o', color =\"red\", label='Poisson, avg = 5');\n",
    "plt.legend();"
   ]
  },
  {
   "cell_type": "markdown",
   "metadata": {},
   "source": [
    "B)"
   ]
  },
  {
   "cell_type": "markdown",
   "metadata": {},
   "source": [
    "I."
   ]
  },
  {
   "cell_type": "code",
   "execution_count": 57,
   "metadata": {
    "collapsed": false
   },
   "outputs": [
    {
     "name": "stdout",
     "output_type": "stream",
     "text": [
      "5.03\n"
     ]
    }
   ],
   "source": [
    "import random\n",
    "import re\n",
    "import numpy as np\n",
    "\n",
    "rand = np.random.randint(N,size=100)\n",
    "temp = [];\n",
    "for node in rand:\n",
    "    temp.append(degrees[node])\n",
    "print np.mean(temp)"
   ]
  },
  {
   "cell_type": "markdown",
   "metadata": {},
   "source": [
    "II."
   ]
  },
  {
   "cell_type": "code",
   "execution_count": 64,
   "metadata": {
    "collapsed": false
   },
   "outputs": [
    {
     "name": "stdout",
     "output_type": "stream",
     "text": [
      "6.0202020202\n"
     ]
    }
   ],
   "source": [
    "neighbors = {};\n",
    "for i,j in E:\n",
    "    neighbors[i] = [];\n",
    "    neighbors[j] = [];\n",
    "\n",
    "for i,j in E:\n",
    "    neighbors[i].append(j)\n",
    "    neighbors[j].append(i)\n",
    "\n",
    "friends_degrees = [];\n",
    "temp = 0;\n",
    "while temp < 100:\n",
    "    x = rand[temp]\n",
    "    if (x in neighbors): \n",
    "        friends100 = np.random.choice(neighbor[x])\n",
    "        friends_degrees.append(degrees[friends100])\n",
    "    temp += 1\n",
    "    \n",
    "print np.mean(friends_degrees)"
   ]
  },
  {
   "cell_type": "code",
   "execution_count": null,
   "metadata": {
    "collapsed": false
   },
   "outputs": [],
   "source": []
  },
  {
   "cell_type": "markdown",
   "metadata": {},
   "source": [
    "C)"
   ]
  },
  {
   "cell_type": "markdown",
   "metadata": {},
   "source": [
    "Average clustering coefficient of graph - 2.875"
   ]
  },
  {
   "cell_type": "markdown",
   "metadata": {
    "collapsed": true
   },
   "source": [
    "# Question 5"
   ]
  },
  {
   "cell_type": "code",
   "execution_count": 12,
   "metadata": {
    "collapsed": true
   },
   "outputs": [],
   "source": [
    "import re\n",
    "import random\n",
    "import numpy as np\n",
    "from collections import Counter\n",
    "from scipy.stats import norm\n",
    "%matplotlib inline\n",
    "import matplotlib.pyplot as plt"
   ]
  },
  {
   "cell_type": "markdown",
   "metadata": {},
   "source": [
    "A)"
   ]
  },
  {
   "cell_type": "code",
   "execution_count": 13,
   "metadata": {
    "collapsed": false
   },
   "outputs": [],
   "source": [
    "weighted = [0,1]\n",
    "N = 200000\n",
    "nodes = set(np.random.randint(2, N, size=N))\n",
    "for k in nodes:\n",
    "    v1 = random.choice(weighted)\n",
    "    v2 = v1\n",
    "    while (v2 == v1):\n",
    "        v2 = random.choice(weighted)\n",
    "    weighted += [k, v1, k, v2]\n",
    "    \n",
    "degrees = Counter(weighted);\n",
    "degdist = Counter(degrees.values())"
   ]
  },
  {
   "cell_type": "code",
   "execution_count": 14,
   "metadata": {
    "collapsed": false
   },
   "outputs": [
    {
     "data": {
      "image/png": "[encoded data removed]",
      "text/plain": [
       "<matplotlib.figure.Figure at 0x10fef1890>"
      ]
     },
     "metadata": {},
     "output_type": "display_data"
    }
   ],
   "source": [
    "from scipy import stats\n",
    "slope, intercept, r_value, p_value, std_err = stats.linregress(np.log(degdist.keys()), np.log(degdist.values()))\n",
    "slope = -2.7\n",
    "intercept = 13.3\n",
    "regy = []; regx = [];\n",
    "for i in degdist.keys():\n",
    "    if (i <= 20): \n",
    "        regy.append(np.exp(intercept)*i**slope)\n",
    "        regx.append(i)\n",
    "        \n",
    "slope = -2.95\n",
    "intercept = 14\n",
    "regy2 = []; regx2 = [];\n",
    "for i in degdist.keys():\n",
    "    if ((i >= 20) & (i <=100)): \n",
    "        regy2.append(np.exp(intercept)*i**slope)\n",
    "        regx2.append(i)\n",
    "\n",
    "plt.loglog(degdist.keys(), degdist.values(), 'o');\n",
    "plt.xlabel(\"Degrees\");\n",
    "plt.ylabel(\"# of Nodes\");\n",
    "plt.plot(regx,regy,'r--',label='head, slope = -2.7');\n",
    "plt.plot(regx2, regy2,'r',label='tail, slope= -2.95');\n",
    "plt.legend();\n",
    "plt.title(\"Degree Distribution\");"
   ]
  },
  {
   "cell_type": "markdown",
   "metadata": {},
   "source": [
    "B)"
   ]
  },
  {
   "cell_type": "code",
   "execution_count": 21,
   "metadata": {
    "collapsed": false
   },
   "outputs": [],
   "source": [
    "weighted = [0,1]\n",
    "N = 200000\n",
    "nodes = set(np.random.randint(2, N, size=N))\n",
    "for k in nodes:\n",
    "    v1 = random.choice(weighted)\n",
    "    v2 = v1\n",
    "    while (v2 == v1):\n",
    "        v2 = random.choice(weighted)\n",
    "    weighted += [k, v1, k, v2]\n",
    "    \n",
    "degrees = Counter(weighted);\n",
    "degdist = Counter(degrees.values())"
   ]
  },
  {
   "cell_type": "code",
   "execution_count": null,
   "metadata": {
    "collapsed": true
   },
   "outputs": [],
   "source": []
  }
 ],
 "metadata": {
  "anaconda-cloud": {},
  "kernelspec": {
   "display_name": "Python [Root]",
   "language": "python",
   "name": "Python [Root]"
  },
  "language_info": {
   "codemirror_mode": {
    "name": "ipython",
    "version": 2
   },
   "file_extension": ".py",
   "mimetype": "text/x-python",
   "name": "python",
   "nbconvert_exporter": "python",
   "pygments_lexer": "ipython2",
   "version": "2.7.12"
  }
 },
 "nbformat": 4,
 "nbformat_minor": 0
}
