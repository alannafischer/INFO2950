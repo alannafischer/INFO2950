{
 "cells": [
  {
   "cell_type": "markdown",
   "metadata": {},
   "source": [
    "Alanna Fischer\n",
    "\n",
    "aef222\n",
    "\n",
    "Problem Set #7"
   ]
  },
  {
   "cell_type": "markdown",
   "metadata": {},
   "source": [
    "# Question 1"
   ]
  },
  {
   "cell_type": "markdown",
   "metadata": {},
   "source": [
    "A)"
   ]
  },
  {
   "cell_type": "markdown",
   "metadata": {
    "collapsed": true
   },
   "source": [
    "'frog' = \"frog\"\n",
    "\n",
    "'gorf' = \"golf\"\n",
    "\n",
    "'forg' = \"for\"\n",
    "\n",
    "'grof' = \"grow\""
   ]
  },
  {
   "cell_type": "markdown",
   "metadata": {},
   "source": [
    "B)"
   ]
  },
  {
   "cell_type": "markdown",
   "metadata": {},
   "source": [
    "'foog' = \"foot\"\n",
    "\n",
    "'freg' = \"free\"\n",
    "\n",
    "'frg' = \"fro\"\n",
    "\n",
    "'frgge' = \"free\"\n",
    "\n",
    "'froge' = \"frog\"\n",
    "\n",
    "'froog' = \"frog\""
   ]
  },
  {
   "cell_type": "markdown",
   "metadata": {},
   "source": [
    "C)"
   ]
  },
  {
   "cell_type": "code",
   "execution_count": 52,
   "metadata": {
    "collapsed": false
   },
   "outputs": [],
   "source": [
    "import re\n",
    "from collections import Counter\n",
    "import scipy\n",
    "\n",
    "def words(text): return re.findall(r'\\w+', text.lower())\n",
    "\n",
    "WORDS = {\"argue\":10074, \"borg\":30, \"dreg\":33, \"erg\":14, \"fadge\":36, \"fag\":632, \"fg\": 176,\n",
    "\"fig\":2921, \"flog\":1055, \"fog\":13651, \"foggy\":1884, \"foo\": 227, \"food\": 108140, \"fool\": 55324,\n",
    "\"foon\": 39, \"foot\":128053, \"for\": 7097981, \"fora\": 148, \"forage\": 2489, \"ford\": 15620, \"fore\": 6699,\n",
    "\"forge\":3893, \"forgo\":383, \"fork\":8219, \"form\":307506, \"fort\": 23113, \"frag\": 34, \"frame\": 34362,\n",
    "\"free\": 235012, \"fret\": 4234, \"fri\": 367, \"fridge\": 15, \"frig\": 30, \"frigga\": 196, \"fringe\": 5423,\n",
    "\"fro\": 18586, \"froe\": 22, \"frog\":20000, \"frore\":75, \"froze\":2685, \"fry\": 3486, \"fudge\": 508,\n",
    "\"fug\": 8, \"fugue\": 458, \"go\": 816536, \"god\": 552668, \"golf\": 2801, \"good\": 966602, \"goof\": 15,\n",
    "\"gore\": 2213, \"gorge\": 6177, \"gory\": 999, \"got\": 432016, \"greg\": 2020, \"groan\": 9995, \"grog\": 1385,\n",
    "\"grot\": 234, \"grow\": 64005, \"grown\": 57772, \"lord\": 422407, \"more\": 1899787, \"nor\": 349691, \"of\": 33950064,\n",
    "\"off\": 545832, \"or\": 4228287, \"prof\": 73, \"rage\": 38949, \"reg\": 1143, \"urge\": 11753, \"work\": 829823}\n",
    "\n",
    "def P(word, N=sum(WORDS.values())): \n",
    "    \"Probability of `word`.\"\n",
    "    return WORDS[word] / float(N)\n",
    "\n",
    "def correction(word): \n",
    "    \"Most probable spelling correction for word.\"\n",
    "    return max(candidates(word), key=P)\n",
    "\n",
    "def candidates(word): \n",
    "    \"Generate possible spelling corrections for word.\"\n",
    "    return (known([word]) or known(edits1(word)) or known(edits2(word)) or [word])\n",
    "\n",
    "def known(words): \n",
    "    \"The subset of `words` that appear in the dictionary of WORDS.\"\n",
    "    return set(w for w in words if w in WORDS)\n",
    "\n",
    "def edits1(word):\n",
    "    \"All edits that are one edit away from `word`.\"\n",
    "    letters    = 'abcdefghijklmnopqrstuvwxyz'\n",
    "    splits     = [(word[:i], word[i:])    for i in range(len(word) + 1)]\n",
    "    deletes    = [L + R[1:]               for L, R in splits if R]\n",
    "    transposes = [L + R[1] + R[0] + R[2:] for L, R in splits if len(R)>1]\n",
    "    replaces   = [L + c + R[1:]           for L, R in splits if R for c in letters]\n",
    "    inserts    = [L + c + R               for L, R in splits for c in letters]\n",
    "    return set(deletes + transposes + replaces + inserts)\n",
    "\n",
    "def edits2(word): \n",
    "    \"All edits that are two edits away from `word`.\"\n",
    "    return (e2 for e1 in edits1(word) for e2 in edits1(e1))"
   ]
  },
  {
   "cell_type": "code",
   "execution_count": 53,
   "metadata": {
    "collapsed": false
   },
   "outputs": [
    {
     "name": "stdout",
     "output_type": "stream",
     "text": [
      "foot\n",
      "free\n",
      "frog\n",
      "free\n",
      "frog\n",
      "frog\n"
     ]
    }
   ],
   "source": [
    "print correction('foog')\n",
    "print correction('freg')\n",
    "print correction('frg')\n",
    "print correction('frgge')\n",
    "print correction('froge')\n",
    "print correction('froog')"
   ]
  },
  {
   "cell_type": "markdown",
   "metadata": {},
   "source": [
    "# Question 2"
   ]
  },
  {
   "cell_type": "code",
   "execution_count": 54,
   "metadata": {
    "collapsed": true
   },
   "outputs": [],
   "source": [
    "from scipy import stats"
   ]
  },
  {
   "cell_type": "code",
   "execution_count": 55,
   "metadata": {
    "collapsed": false
   },
   "outputs": [
    {
     "name": "stdout",
     "output_type": "stream",
     "text": [
      "1 and 2 = (0.050586526557698866, 0.81022415653399427)\n",
      "1 and 3 = (0.90124339750433413, 8.0172433419151881e-10)\n",
      "1 and 4 = (-0.09871918431022278, 0.63872995375217279)\n",
      "1 and 5 = (-0.16066895153338528, 0.4429499303008454)\n",
      "2 and 3 = (0.0052930591988529698, 0.97996685945441797)\n",
      "2 and 4 = (-0.048140216756561716, 0.81924960565698401)\n",
      "2 and 5 = (-0.032136013943635598, 0.87879824998682343)\n",
      "3 and 4 = (0.0053040395307159338, 0.97992530933153654)\n",
      "3 and 5 = (-0.12413954149917189, 0.55437658142197432)\n",
      "4 and 5 = (0.92753156098714651, 2.6030232621609268e-11)\n"
     ]
    }
   ],
   "source": [
    "prob1 = [11, 19, 15, 16, 4, 3, 10, 16, 6, 8, 13, 10, 11, 3, 1, 1, 15, 1, 8, 13, 19, 4, 16, 18, 11]\n",
    "prob2 = [16, 13, 13, 14, 0, 12, 14, 14, 16, 14, 0, 15, 16, 14, 14, 16, 11, 16, 14, 17, 15, 18, 15, 19, 20]\n",
    "prob3 = [14, 15, 13, 17, 2, 0, 6, 18, 2, 10, 16, 12, 11, 0, 3, 5, 18, 0, 9, 12, 15, 5, 12, 16, 10]\n",
    "prob4 = [13, 6, 6, 6, 16, 1, 5, 5, 12, 10, 22, 13, 12, 5, 5, 15, 3, 15, 8, 19, 8, 17, 8, 16, 19]\n",
    "prob5 = [14, 5, 5, 8, 19, 4, 8, 8, 14, 8, 19, 10, 14, 8, 8, 14, 1, 14, 8, 16, 10, 17, 10, 18, 19]\n",
    "\n",
    "\n",
    "\n",
    "p_one_two = stats.pearsonr(prob1,prob2)\n",
    "p_one_three = stats.pearsonr(prob1,prob3)\n",
    "p_one_four = stats.pearsonr(prob1,prob4)\n",
    "p_one_five = stats.pearsonr(prob1,prob5)\n",
    "p_two_three = stats.pearsonr(prob2,prob3)\n",
    "p_two_four = stats.pearsonr(prob2,prob4)\n",
    "p_two_five = stats.pearsonr(prob2,prob5)\n",
    "p_three_four = stats.pearsonr(prob3,prob4)\n",
    "p_three_five = stats.pearsonr(prob3,prob5)\n",
    "p_four_five = stats.pearsonr(prob4,prob5)\n",
    "\n",
    "print '1 and 2 =', p_one_two\n",
    "print '1 and 3 =', p_one_three\n",
    "print '1 and 4 =', p_one_four\n",
    "print '1 and 5 =', p_one_five\n",
    "print '2 and 3 =', p_two_three\n",
    "print '2 and 4 =', p_two_four\n",
    "print '2 and 5 =', p_two_five\n",
    "print '3 and 4 =', p_three_four\n",
    "print '3 and 5 =', p_three_five\n",
    "print '4 and 5 =', p_four_five"
   ]
  },
  {
   "cell_type": "code",
   "execution_count": 56,
   "metadata": {
    "collapsed": false
   },
   "outputs": [
    {
     "name": "stdout",
     "output_type": "stream",
     "text": [
      "1 and 2 = SpearmanrResult(correlation=-0.047856172983785403, pvalue=0.82029903289502526)\n",
      "1 and 3 = SpearmanrResult(correlation=0.88697544915239213, pvalue=3.5208408568624962e-09)\n",
      "1 and 4 = SpearmanrResult(correlation=-0.059519211383024712, pvalue=0.77747527833678298)\n",
      "1 and 5 = SpearmanrResult(correlation=-0.104796858600977, pvalue=0.61810721213147257)\n",
      "2 and 3 = SpearmanrResult(correlation=-0.10992354920952695, pvalue=0.60092621915762856)\n",
      "2 and 4 = SpearmanrResult(correlation=0.5407624604012331, pvalue=0.0052539887883431037)\n",
      "2 and 5 = SpearmanrResult(correlation=0.56228899319333225, pvalue=0.0034379811875388001)\n",
      "3 and 4 = SpearmanrResult(correlation=-0.030989781733992611, pvalue=0.88309175412387941)\n",
      "3 and 5 = SpearmanrResult(correlation=-0.11116544434358877, pvalue=0.59679478013877729)\n",
      "4 and 5 = SpearmanrResult(correlation=0.92465613292639481, pvalue=4.0140875719289323e-11)\n"
     ]
    }
   ],
   "source": [
    "s_one_two = stats.spearmanr(prob1,prob2)\n",
    "s_one_three = stats.spearmanr(prob1,prob3)\n",
    "s_one_four = stats.spearmanr(prob1,prob4)\n",
    "s_one_five = stats.spearmanr(prob1,prob5)\n",
    "s_two_three = stats.spearmanr(prob2,prob3)\n",
    "s_two_four = stats.spearmanr(prob2,prob4)\n",
    "s_two_five = stats.spearmanr(prob2,prob5)\n",
    "s_three_four = stats.spearmanr(prob3,prob4)\n",
    "s_three_five = stats.spearmanr(prob3,prob5)\n",
    "s_four_five = stats.spearmanr(prob4,prob5)\n",
    "\n",
    "print '1 and 2 =', s_one_two\n",
    "print '1 and 3 =', s_one_three\n",
    "print '1 and 4 =', s_one_four\n",
    "print '1 and 5 =', s_one_five\n",
    "print '2 and 3 =', s_two_three\n",
    "print '2 and 4 =', s_two_four\n",
    "print '2 and 5 =', s_two_five \n",
    "print '3 and 4 =', s_three_four\n",
    "print '3 and 5 =', s_three_five\n",
    "print '4 and 5 =', s_four_five"
   ]
  },
  {
   "cell_type": "code",
   "execution_count": 57,
   "metadata": {
    "collapsed": false
   },
   "outputs": [
    {
     "data": {
      "text/plain": [
       "<matplotlib.text.Text at 0x1114e40d0>"
      ]
     },
     "execution_count": 57,
     "metadata": {},
     "output_type": "execute_result"
    },
    {
     "data": {
      "image/png": "[encoded data removed]",
      "text/plain": [
       "<matplotlib.figure.Figure at 0x11405db90>"
      ]
     },
     "metadata": {},
     "output_type": "display_data"
    }
   ],
   "source": [
    "import matplotlib.pyplot as plt\n",
    "%matplotlib inline\n",
    "import numpy as np\n",
    "\n",
    "plt.figure(figsize = (8,6))\n",
    "plt.plot(prob1, prob3, 'o')\n",
    "plt.title('Correlation Between Problems 1 and 3')\n",
    "plt.xlabel('Problem 1 Scores')\n",
    "plt.ylabel('Problem 3 Scores')"
   ]
  },
  {
   "cell_type": "code",
   "execution_count": 58,
   "metadata": {
    "collapsed": false
   },
   "outputs": [
    {
     "data": {
      "text/plain": [
       "<matplotlib.text.Text at 0x111bbd390>"
      ]
     },
     "execution_count": 58,
     "metadata": {},
     "output_type": "execute_result"
    },
    {
     "data": {
      "image/png": "[encoded data removed]",
      "text/plain": [
       "<matplotlib.figure.Figure at 0x111feba90>"
      ]
     },
     "metadata": {},
     "output_type": "display_data"
    }
   ],
   "source": [
    "plt.figure(figsize = (8,6))\n",
    "plt.plot(prob4, prob5, 'o')\n",
    "plt.title('Correlation Between Problems 4 and 5')\n",
    "plt.xlabel('Problem 4 Scores')\n",
    "plt.ylabel('Problem 5 Scores')"
   ]
  },
  {
   "cell_type": "markdown",
   "metadata": {},
   "source": [
    "# Question 3"
   ]
  },
  {
   "cell_type": "code",
   "execution_count": 59,
   "metadata": {
    "collapsed": true
   },
   "outputs": [],
   "source": [
    "fblikes = [1900, 5300, 224, 17800, 21400, 9600, 860, 147, 2800, 759, 2100, 3700, 901,\n",
    "           18900, 2000, 10300, 276, 1000, 298, 39200, 1900, 21800, 36600, 3000, 628,\n",
    "           1100, 5200, 2300, 788, 8900]\n",
    "tweets = [157, 1100, 668, 1500, 1000, 1000, 178, 66, 209, 251, 46, 376, 89, 1400, 453,\n",
    "          1900, 129, 385, 20, 2900, 192, 497, 4900, 537, 266, 258, 358, 481, 301, 2100]\n",
    "comments = [366, 454, 9, 1900, 1700, 58, 630, 57, 396, 40, 476, 821, 206, 662, 606, 77,\n",
    "            444, 121, 27, 573, 189, 189, 1500, 1400, 31, 141, 393, 11, 32, 1400]"
   ]
  },
  {
   "cell_type": "markdown",
   "metadata": {},
   "source": [
    "A)"
   ]
  },
  {
   "cell_type": "markdown",
   "metadata": {},
   "source": [
    "I."
   ]
  },
  {
   "cell_type": "code",
   "execution_count": 60,
   "metadata": {
    "collapsed": false
   },
   "outputs": [
    {
     "name": "stdout",
     "output_type": "stream",
     "text": [
      "Pearson Correlation of FB Likes and Tweets = (0.83694718969598447, 8.236412524718429e-09)\n",
      "Spearman Correlation of FB Likes and Tweets = SpearmanrResult(correlation=0.76301735647530056, pvalue=9.456001835691113e-07)\n",
      "Pearson Correlation of FB Likes and Comments = (0.50734271446655976, 0.0042148689533096995)\n",
      "Spearman Correlation of FB Likes and Comments = SpearmanrResult(correlation=0.60765550615416419, pvalue=0.0003688055434274629)\n",
      "Pearson Correlation of Comments and Tweets = (0.50969515653754716, 0.0040135265151552448)\n",
      "Spearman Correlation of Comments and Tweets = SpearmanrResult(correlation=0.38299766566244886, pvalue=0.036704550981923489)\n"
     ]
    }
   ],
   "source": [
    "p_fbTweets = stats.pearsonr(fblikes,tweets)\n",
    "s_fbTweets = stats.spearmanr(fblikes,tweets)\n",
    "p_fbComments = stats.pearsonr(fblikes,comments)\n",
    "s_fbComments = stats.spearmanr(fblikes,comments)\n",
    "p_tweetsComments = stats.pearsonr(tweets,comments)\n",
    "s_tweetsComments = stats.spearmanr(tweets,comments)\n",
    "\n",
    "print 'Pearson Correlation of FB Likes and Tweets =', p_fbTweets\n",
    "print 'Spearman Correlation of FB Likes and Tweets =', s_fbTweets\n",
    "print 'Pearson Correlation of FB Likes and Comments =', p_fbComments\n",
    "print 'Spearman Correlation of FB Likes and Comments =', s_fbComments\n",
    "print 'Pearson Correlation of Comments and Tweets =', p_tweetsComments\n",
    "print 'Spearman Correlation of Comments and Tweets =', s_tweetsComments"
   ]
  },
  {
   "cell_type": "markdown",
   "metadata": {},
   "source": [
    "II."
   ]
  },
  {
   "cell_type": "code",
   "execution_count": 61,
   "metadata": {
    "collapsed": false
   },
   "outputs": [
    {
     "data": {
      "text/plain": [
       "<matplotlib.text.Text at 0x1145ba850>"
      ]
     },
     "execution_count": 61,
     "metadata": {},
     "output_type": "execute_result"
    },
    {
     "data": {
      "image/png": "[encoded data removed]",
      "text/plain": [
       "<matplotlib.figure.Figure at 0x1144e7c90>"
      ]
     },
     "metadata": {},
     "output_type": "display_data"
    }
   ],
   "source": [
    "plt.figure(figsize = (8,6))\n",
    "plt.plot(fblikes, tweets, 'o')\n",
    "plt.title('Correlation Between FB Likes and Tweets')\n",
    "plt.xlabel('FB Likes')\n",
    "plt.ylabel('Tweets')"
   ]
  },
  {
   "cell_type": "code",
   "execution_count": 62,
   "metadata": {
    "collapsed": false
   },
   "outputs": [
    {
     "data": {
      "text/plain": [
       "<matplotlib.text.Text at 0x1145ba110>"
      ]
     },
     "execution_count": 62,
     "metadata": {},
     "output_type": "execute_result"
    },
    {
     "data": {
      "image/png": "[encoded data removed]",
      "text/plain": [
       "<matplotlib.figure.Figure at 0x114966890>"
      ]
     },
     "metadata": {},
     "output_type": "display_data"
    }
   ],
   "source": [
    "plt.figure(figsize = (8,6))\n",
    "plt.plot(fblikes, comments, 'o')\n",
    "plt.title('Correlation Between FB Likes and Comments')\n",
    "plt.xlabel('FB Likes')\n",
    "plt.ylabel('Comments')"
   ]
  },
  {
   "cell_type": "code",
   "execution_count": 63,
   "metadata": {
    "collapsed": false
   },
   "outputs": [
    {
     "data": {
      "text/plain": [
       "<matplotlib.text.Text at 0x11135f5d0>"
      ]
     },
     "execution_count": 63,
     "metadata": {},
     "output_type": "execute_result"
    },
    {
     "data": {
      "image/png": "[encoded data removed]",
      "text/plain": [
       "<matplotlib.figure.Figure at 0x110fd1150>"
      ]
     },
     "metadata": {},
     "output_type": "display_data"
    }
   ],
   "source": [
    "plt.figure(figsize = (8,6))\n",
    "plt.plot(tweets, comments, 'o')\n",
    "plt.title('Correlation Between Tweets and Comments')\n",
    "plt.xlabel('Tweets')\n",
    "plt.ylabel('Comments')"
   ]
  },
  {
   "cell_type": "markdown",
   "metadata": {},
   "source": [
    "B)"
   ]
  },
  {
   "cell_type": "code",
   "execution_count": 64,
   "metadata": {
    "collapsed": false
   },
   "outputs": [
    {
     "name": "stdout",
     "output_type": "stream",
     "text": [
      "Pearson Correlation: of and FB Likes = (-0.13648157070114716, 0.47204726117044682)\n",
      "Pearson Correlation: of and Tweets = (0.011339858726361337, 0.95257493267544024)\n",
      "Pearson Correlation: of and Comments = (-0.35803831054601604, 0.052054843912439711)\n",
      "Spearman Correlation: of and FB Likes = SpearmanrResult(correlation=-0.19332956396728526, pvalue=0.30601816232771273)\n",
      "Spearman Correlation: of and Tweets = SpearmanrResult(correlation=0.033578879835056467, pvalue=0.86017335527521288)\n",
      "Spearman Correlation: of and Comments = SpearmanrResult(correlation=-0.41727237686211882, pvalue=0.021781238480608259)\n",
      "Pearson Correlation: in and FB Likes = (-0.3511996056814301, 0.057042671536425955)\n",
      "Pearson Correlation: in and Tweets = (-0.22488397152908246, 0.23217295123769077)\n",
      "Pearson Correlation: in and Comments = (-0.43095312740722291, 0.01742939168135621)\n",
      "Spearman Correlation: in and FB Likes = SpearmanrResult(correlation=-0.36827623355632549, pvalue=0.04523898700124801)\n",
      "Spearman Correlation: in and Tweets = SpearmanrResult(correlation=-0.16354188607457315, pvalue=0.38784669096942848)\n",
      "Spearman Correlation: in and Comments = SpearmanrResult(correlation=-0.49603921931196676, pvalue=0.00530745110666366)\n",
      "Pearson Correlation: trump and FB Likes = (-0.00085228462099443516, 0.99643363691505671)\n",
      "Pearson Correlation: trump and Tweets = (-0.000585842200395748, 0.99754855430357803)\n",
      "Pearson Correlation: trump and Comments = (-0.017042849864951286, 0.92877407632502018)\n",
      "Spearman Correlation: trump and FB Likes = SpearmanrResult(correlation=-0.10441804493559088, pvalue=0.58292022475377436)\n",
      "Spearman Correlation: trump and Tweets = SpearmanrResult(correlation=-0.10129442820674842, pvalue=0.5943030182858654)\n",
      "Spearman Correlation: trump and Comments = SpearmanrResult(correlation=-0.0379338524420108, pvalue=0.84225095680624895)\n",
      "Pearson Correlation: was and FB Likes = (-0.076864501892260156, 0.68642357750270999)\n",
      "Pearson Correlation: was and Tweets = (-0.053048376256251493, 0.78069946453247219)\n",
      "Pearson Correlation: was and Comments = (-0.34182920852016341, 0.064478311206265154)\n",
      "Spearman Correlation: was and FB Likes = SpearmanrResult(correlation=-0.099576407037378606, pvalue=0.60060430910557838)\n",
      "Spearman Correlation: was and Tweets = SpearmanrResult(correlation=0.062654817911159566, pvalue=0.7422192416500295)\n",
      "Spearman Correlation: was and Comments = SpearmanrResult(correlation=-0.36791422423546494, pvalue=0.045467202816146531)\n",
      "Pearson Correlation: president and FB Likes = (0.31743953788706086, 0.087388235637830755)\n",
      "Pearson Correlation: president and Tweets = (0.48951461582342765, 0.0060417865158928366)\n",
      "Pearson Correlation: president and Comments = (-0.058782031019669327, 0.75766489648981605)\n",
      "Spearman Correlation: president and FB Likes = SpearmanrResult(correlation=0.078164699458318401, pvalue=0.68139291042087602)\n",
      "Spearman Correlation: president and Tweets = SpearmanrResult(correlation=0.10819344011352849, pvalue=0.56929218134853077)\n",
      "Spearman Correlation: president and Comments = SpearmanrResult(correlation=-0.10865539850061179, pvalue=0.56763457918039073)\n",
      "Pearson Correlation: order and FB Likes = (-0.05356709382400969, 0.77860773062019906)\n",
      "Pearson Correlation: order and Tweets = (0.0084862666608443559, 0.96450040258977499)\n",
      "Pearson Correlation: order and Comments = (0.099315432852312008, 0.60156399145671102)\n",
      "Spearman Correlation: order and FB Likes = SpearmanrResult(correlation=0.20705897887559788, pvalue=0.27226120787870178)\n",
      "Spearman Correlation: order and Tweets = SpearmanrResult(correlation=0.15178680986499724, pvalue=0.42330546992566787)\n",
      "Spearman Correlation: order and Comments = SpearmanrResult(correlation=-0.036892532767008011, pvalue=0.84652971342780292)\n",
      "Pearson Correlation: more and FB Likes = (-0.36251458158818178, 0.048981293472953179)\n",
      "Pearson Correlation: more and Tweets = (-0.25277388246740151, 0.17776262455243996)\n",
      "Pearson Correlation: more and Comments = (-0.29713735492106919, 0.11080444427037939)\n",
      "Spearman Correlation: more and FB Likes = SpearmanrResult(correlation=-0.53189146690021127, pvalue=0.0024854347369280775)\n",
      "Spearman Correlation: more and Tweets = SpearmanrResult(correlation=-0.41301794540886255, pvalue=0.023303758274154419)\n",
      "Spearman Correlation: more and Comments = SpearmanrResult(correlation=-0.2368728418117215, pvalue=0.20755920803319111)\n",
      "Pearson Correlation: were and FB Likes = (-0.29717901666148799, 0.11075203156305313)\n",
      "Pearson Correlation: were and Tweets = (-0.22371628758520148, 0.2346705849599004)\n",
      "Pearson Correlation: were and Comments = (-0.39814683317395833, 0.029326205497198443)\n",
      "Spearman Correlation: were and FB Likes = SpearmanrResult(correlation=-0.41528193044727907, pvalue=0.022483042872991656)\n",
      "Spearman Correlation: were and Tweets = SpearmanrResult(correlation=-0.12726564199215173, pvalue=0.50274522683669143)\n",
      "Spearman Correlation: were and Comments = SpearmanrResult(correlation=-0.55856034814768152, pvalue=0.0013366798891400861)\n",
      "Pearson Correlation: what and FB Likes = (-0.35393200420912324, 0.0550065746069597)\n",
      "Pearson Correlation: what and Tweets = (-0.33045673226064204, 0.074494344511322835)\n",
      "Pearson Correlation: what and Comments = (-0.36825289617245771, 0.045253671650301037)\n",
      "Spearman Correlation: what and FB Likes = SpearmanrResult(correlation=-0.29789716817455886, pvalue=0.10985146391196186)\n",
      "Spearman Correlation: what and Tweets = SpearmanrResult(correlation=-0.27137980661356592, pvalue=0.14688184504407692)\n",
      "Spearman Correlation: what and Comments = SpearmanrResult(correlation=-0.31034408081680043, pvalue=0.095098051599221536)\n",
      "Pearson Correlation: court and FB Likes = (0.041755239865648879, 0.82658754553689406)\n",
      "Pearson Correlation: court and Tweets = (0.27878606850648835, 0.13573848661511603)\n",
      "Pearson Correlation: court and Comments = (0.097125450119990783, 0.60964285068327562)\n",
      "Spearman Correlation: court and FB Likes = SpearmanrResult(correlation=0.088220770011859961, pvalue=0.64294967879442044)\n",
      "Spearman Correlation: court and Tweets = SpearmanrResult(correlation=0.093538186286547406, pvalue=0.62297364659509669)\n",
      "Spearman Correlation: court and Comments = SpearmanrResult(correlation=0.073364337447189301, pvalue=0.70003115295270213)\n",
      "Pearson Correlation: one and FB Likes = (-0.05303075206189635, 0.78077056072506124)\n",
      "Pearson Correlation: one and Tweets = (0.13136005681035665, 0.48898509397401957)\n",
      "Pearson Correlation: one and Comments = (-0.29096749800263105, 0.11877261201768358)\n",
      "Spearman Correlation: one and FB Likes = SpearmanrResult(correlation=-0.12801296733419454, pvalue=0.50021934136065527)\n",
      "Spearman Correlation: one and Tweets = SpearmanrResult(correlation=0.0095244368964325435, pvalue=0.96016077498066366)\n",
      "Spearman Correlation: one and Comments = SpearmanrResult(correlation=-0.37625712190122074, pvalue=0.040435339498223852)\n",
      "Pearson Correlation: law and FB Likes = (0.16712042345459632, 0.3774025649915943)\n",
      "Pearson Correlation: law and Tweets = (0.30539617998219781, 0.10077168516394625)\n",
      "Pearson Correlation: law and Comments = (-0.028560303363787544, 0.88091095896972171)\n",
      "Spearman Correlation: law and FB Likes = SpearmanrResult(correlation=0.46867378276954336, pvalue=0.0089930018249356411)\n",
      "Spearman Correlation: law and Tweets = SpearmanrResult(correlation=0.44702119369971355, pvalue=0.013263545935148682)\n",
      "Spearman Correlation: law and Comments = SpearmanrResult(correlation=0.22504899007086498, pvalue=0.2318214264142345)\n",
      "Pearson Correlation: been and FB Likes = (-0.32536835957715809, 0.079347066519630041)\n",
      "Pearson Correlation: been and Tweets = (-0.28265132423441958, 0.13017417663909517)\n",
      "Pearson Correlation: been and Comments = (-0.36678408052217609, 0.046185565245395244)\n",
      "Spearman Correlation: been and FB Likes = SpearmanrResult(correlation=-0.3987655000912636, pvalue=0.029052672511643014)\n",
      "Spearman Correlation: been and Tweets = SpearmanrResult(correlation=-0.3234860221412329, pvalue=0.081202504300644532)\n",
      "Spearman Correlation: been and Comments = SpearmanrResult(correlation=-0.391315155342425, pvalue=0.032488223838970293)\n",
      "Pearson Correlation: senate and FB Likes = (0.30871003248257606, 0.096944359582973788)\n",
      "Pearson Correlation: senate and Tweets = (0.37239838469021896, 0.042704132591621827)\n",
      "Pearson Correlation: senate and Comments = (0.31918159333222607, 0.085570365743424484)\n",
      "Spearman Correlation: senate and FB Likes = SpearmanrResult(correlation=0.27995137637237144, pvalue=0.13404298368880463)\n",
      "Spearman Correlation: senate and Tweets = SpearmanrResult(correlation=0.091597573932173659, pvalue=0.63023459147744099)\n",
      "Spearman Correlation: senate and Comments = SpearmanrResult(correlation=0.40292317179701992, pvalue=0.027267782690181548)\n",
      "Pearson Correlation: new and FB Likes = (-0.44594917753371549, 0.013512780959768617)\n",
      "Pearson Correlation: new and Tweets = (-0.43544033502909446, 0.016169690772701577)\n",
      "Pearson Correlation: new and Comments = (-0.43627548564259672, 0.015943794775975725)\n",
      "Spearman Correlation: new and FB Likes = SpearmanrResult(correlation=-0.55468036686339028, pvalue=0.0014676077603088802)\n",
      "Spearman Correlation: new and Tweets = SpearmanrResult(correlation=-0.40931507432001812, pvalue=0.024698940506024298)\n",
      "Spearman Correlation: new and Comments = SpearmanrResult(correlation=-0.60819616684351208, pvalue=0.00036318452496313168)\n",
      "Pearson Correlation: executive and FB Likes = (-0.0073160886813801182, 0.96939301797495236)\n",
      "Pearson Correlation: executive and Tweets = (-0.01299753699173164, 0.94565176029357023)\n",
      "Pearson Correlation: executive and Comments = (0.00038538308924628109, 0.99838737033253822)\n",
      "Spearman Correlation: executive and FB Likes = SpearmanrResult(correlation=0.088607934121389717, pvalue=0.64148672735934587)\n",
      "Spearman Correlation: executive and Tweets = SpearmanrResult(correlation=0.11171269113691339, pvalue=0.55671984015353559)\n",
      "Spearman Correlation: executive and Comments = SpearmanrResult(correlation=-0.023583767821298906, pvalue=0.90155139411913332)\n",
      "Pearson Correlation: people and FB Likes = (-0.062729488454398019, 0.74192237731481647)\n",
      "Pearson Correlation: people and Tweets = (0.20600156021811472, 0.27477182735402123)\n",
      "Pearson Correlation: people and Comments = (-0.076012877175549179, 0.68972579463023675)\n",
      "Spearman Correlation: people and FB Likes = SpearmanrResult(correlation=-0.013849970414788262, pvalue=0.94209311299957887)\n",
      "Spearman Correlation: people and Tweets = SpearmanrResult(correlation=0.22491894103354493, pvalue=0.23209842886326426)\n",
      "Spearman Correlation: people and Comments = SpearmanrResult(correlation=-0.054948145238442735, pvalue=0.77304604961992496)\n",
      "Pearson Correlation: democrats and FB Likes = (0.065661938512700052, 0.730293060628039)\n",
      "Pearson Correlation: democrats and Tweets = (-0.043735240582780076, 0.81849694778458448)\n",
      "Pearson Correlation: democrats and Comments = (0.029493733746978716, 0.87704760230764356)\n",
      "Spearman Correlation: democrats and FB Likes = SpearmanrResult(correlation=-0.021725672951150254, pvalue=0.90927482317962394)\n",
      "Spearman Correlation: democrats and Tweets = SpearmanrResult(correlation=-0.14936400153915799, pvalue=0.43082999352193219)\n",
      "Spearman Correlation: democrats and Comments = SpearmanrResult(correlation=-0.020870402756682834, pvalue=0.91283264097373995)\n",
      "Pearson Correlation: should and FB Likes = (0.40769131576947348, 0.025331938749326797)\n",
      "Pearson Correlation: should and Tweets = (0.58340815303081528, 0.00071456599369123998)\n",
      "Pearson Correlation: should and Comments = (0.2707456653372452, 0.14786579108921963)\n",
      "Spearman Correlation: should and FB Likes = SpearmanrResult(correlation=0.071239038433637353, pvalue=0.7083386323529437)\n",
      "Spearman Correlation: should and Tweets = SpearmanrResult(correlation=0.092854798871902539, pvalue=0.62552668615290274)\n",
      "Spearman Correlation: should and Comments = SpearmanrResult(correlation=0.10657988191548984, pvalue=0.57509903123209072)\n",
      "Pearson Correlation: could and FB Likes = (-0.34252469820789772, 0.063901705767064818)\n",
      "Pearson Correlation: could and Tweets = (-0.26259282518042942, 0.16094254680094791)\n",
      "Pearson Correlation: could and Comments = (-0.39764219972661563, 0.029550867482438698)\n",
      "Spearman Correlation: could and FB Likes = SpearmanrResult(correlation=-0.47587104709233441, pvalue=0.0078601631848628489)\n",
      "Spearman Correlation: could and Tweets = SpearmanrResult(correlation=-0.14939466811747226, pvalue=0.43073429644503236)\n",
      "Spearman Correlation: could and Comments = SpearmanrResult(correlation=-0.4774238827846608, pvalue=0.0076322855529412682)\n",
      "Pearson Correlation: american and FB Likes = (-0.27699445996813982, 0.13837569803717378)\n",
      "Pearson Correlation: american and Tweets = (-0.1576832759511472, 0.4052999812183723)\n",
      "Pearson Correlation: american and Comments = (-0.35751325493482528, 0.052425131815222743)\n",
      "Spearman Correlation: american and FB Likes = SpearmanrResult(correlation=-0.20255688736272995, pvalue=0.28305378694369066)\n",
      "Spearman Correlation: american and Tweets = SpearmanrResult(correlation=0.075600536380075509, pvalue=0.69132668018508436)\n",
      "Spearman Correlation: american and Comments = SpearmanrResult(correlation=-0.40587552749055489, pvalue=0.026055443259057912)\n",
      "Pearson Correlation: immigration and FB Likes = (-0.21794945563796037, 0.24726889325009585)\n",
      "Pearson Correlation: immigration and Tweets = (-0.20479527466883546, 0.27765408626879506)\n",
      "Pearson Correlation: immigration and Comments = (-0.15444623842653099, 0.41513046040645529)\n",
      "Spearman Correlation: immigration and FB Likes = SpearmanrResult(correlation=-0.23843269347830956, pvalue=0.20449373506408458)\n",
      "Spearman Correlation: immigration and Tweets = SpearmanrResult(correlation=-0.19200973818126543, pvalue=0.30939560220054607)\n",
      "Spearman Correlation: immigration and Comments = SpearmanrResult(correlation=-0.12444934249615353, pvalue=0.51232096771736302)\n",
      "Pearson Correlation: republicans and FB Likes = (-0.1078916617425606, 0.57037620267880906)\n",
      "Pearson Correlation: republicans and Tweets = (0.010158093954480465, 0.95751258260236272)\n",
      "Pearson Correlation: republicans and Comments = (0.10118784221509286, 0.5946931177547361)\n",
      "Spearman Correlation: republicans and FB Likes = SpearmanrResult(correlation=-0.079954738029586539, pvalue=0.67448886374485295)\n",
      "Spearman Correlation: republicans and Tweets = SpearmanrResult(correlation=-0.20408200108169156, pvalue=0.2793674798164279)\n",
      "Spearman Correlation: republicans and Comments = SpearmanrResult(correlation=0.17325454300960766, pvalue=0.35988596089982228)\n",
      "Pearson Correlation: against and FB Likes = (-0.028055334112674028, 0.88300208923103463)\n",
      "Pearson Correlation: against and Tweets = (-0.15755615158931155, 0.40568354224075398)\n",
      "Pearson Correlation: against and Comments = (-0.050228474465426297, 0.79209665700777843)\n",
      "Spearman Correlation: against and FB Likes = SpearmanrResult(correlation=0.17205286890401192, pvalue=0.36327886177485036)\n",
      "Spearman Correlation: against and Tweets = SpearmanrResult(correlation=0.127850479792462, pvalue=0.50076799116592263)\n",
      "Spearman Correlation: against and Comments = SpearmanrResult(correlation=0.048152316967191702, pvalue=0.80051492825790793)\n",
      "Pearson Correlation: government and FB Likes = (-0.11578856917238411, 0.54232095884932163)\n",
      "Pearson Correlation: government and Tweets = (0.02851458280249012, 0.88110026047552936)\n",
      "Pearson Correlation: government and Comments = (-0.048288539863618654, 0.79996189741606227)\n",
      "Spearman Correlation: government and FB Likes = SpearmanrResult(correlation=0.017071349713435921, pvalue=0.92865526934431197)\n",
      "Spearman Correlation: government and Tweets = SpearmanrResult(correlation=0.15039618655991788, pvalue=0.42761540617860461)\n",
      "Spearman Correlation: government and Comments = SpearmanrResult(correlation=-0.03895586478156738, pvalue=0.83805580975774663)\n",
      "Pearson Correlation: up and FB Likes = (0.069228221638103909, 0.71622895286104082)\n",
      "Pearson Correlation: up and Tweets = (-0.080878784972321843, 0.67093495197146313)\n",
      "Pearson Correlation: up and Comments = (-0.37557380386473344, 0.040829908685268285)\n",
      "Spearman Correlation: up and FB Likes = SpearmanrResult(correlation=-0.030723249900406046, pvalue=0.87196301828138301)\n",
      "Spearman Correlation: up and Tweets = SpearmanrResult(correlation=-0.05400202001725217, pvalue=0.77685505335895078)\n",
      "Spearman Correlation: up and Comments = SpearmanrResult(correlation=-0.30951209763752702, pvalue=0.096034752286058039)\n",
      "Pearson Correlation: national and FB Likes = (0.40831088674815019, 0.025088861242820649)\n",
      "Pearson Correlation: national and Tweets = (0.23851972135528773, 0.20432362675050436)\n",
      "Pearson Correlation: national and Comments = (0.028252479317815098, 0.88218559790744744)\n",
      "Spearman Correlation: national and FB Likes = SpearmanrResult(correlation=0.17880385691690079, pvalue=0.34446302227448866)\n",
      "Spearman Correlation: national and Tweets = SpearmanrResult(correlation=0.22490362682948947, pvalue=0.23213106249043455)\n",
      "Spearman Correlation: national and Comments = SpearmanrResult(correlation=0.044766762870470586, pvalue=0.81428915653976985)\n",
      "Pearson Correlation: some and FB Likes = (-0.18530299254592067, 0.32691610622114375)\n",
      "Pearson Correlation: some and Tweets = (-0.21586004058208824, 0.25194185990519613)\n",
      "Pearson Correlation: some and Comments = (-0.39317950040367022, 0.031599150515916045)\n",
      "Spearman Correlation: some and FB Likes = SpearmanrResult(correlation=-0.37293298725262114, pvalue=0.042383872058171644)\n",
      "Spearman Correlation: some and Tweets = SpearmanrResult(correlation=-0.26634694336736625, pvalue=0.15482225266635577)\n",
      "Spearman Correlation: some and Comments = SpearmanrResult(correlation=-0.40547384764962019, pvalue=0.026217751405803534)\n",
      "Pearson Correlation: down and FB Likes = (-0.23728010919653442, 0.20675581113549871)\n",
      "Pearson Correlation: down and Tweets = (-0.2231347846956088, 0.23592108179888224)\n",
      "Pearson Correlation: down and Comments = (-0.25143190417566041, 0.18015402699946956)\n",
      "Spearman Correlation: down and FB Likes = SpearmanrResult(correlation=-0.36247005186774245, pvalue=0.049011143556416392)\n",
      "Spearman Correlation: down and Tweets = SpearmanrResult(correlation=-0.22392064388408564, pvalue=0.23423218115733643)\n",
      "Spearman Correlation: down and Comments = SpearmanrResult(correlation=-0.38612126069894448, pvalue=0.035072309980480693)\n",
      "Pearson Correlation: obama and FB Likes = (0.29838483799563592, 0.10924304749386166)\n",
      "Pearson Correlation: obama and Tweets = (0.40114943204927694, 0.028017990505065857)\n",
      "Pearson Correlation: obama and Comments = (0.22738452852262492, 0.22688451361875123)\n",
      "Spearman Correlation: obama and FB Likes = SpearmanrResult(correlation=0.27770871873062786, pvalue=0.13731988828964742)\n",
      "Spearman Correlation: obama and Tweets = SpearmanrResult(correlation=0.31996343143106643, pvalue=0.084763955407981012)\n",
      "Spearman Correlation: obama and Comments = SpearmanrResult(correlation=0.061190655420528497, pvalue=0.74804752303092648)\n",
      "Pearson Correlation: another and FB Likes = (-0.38404977476721947, 0.036148078477746474)\n",
      "Pearson Correlation: another and Tweets = (-0.40594819078226507, 0.026026169799118742)\n",
      "Pearson Correlation: another and Comments = (-0.44447944666057781, 0.013860824738252987)\n",
      "Spearman Correlation: another and FB Likes = SpearmanrResult(correlation=-0.4462654874943684, pvalue=0.013438838259770741)\n",
      "Spearman Correlation: another and Tweets = SpearmanrResult(correlation=-0.63907069128901506, pvalue=0.00014394717352748132)\n",
      "Spearman Correlation: another and Comments = SpearmanrResult(correlation=-0.37079238744096138, pvalue=0.043677868131307106)\n",
      "Pearson Correlation: both and FB Likes = (-0.32221536062102274, 0.08247369923532101)\n",
      "Pearson Correlation: both and Tweets = (-0.29307336394481948, 0.11600664373750405)\n",
      "Pearson Correlation: both and Comments = (-0.18822725131765541, 0.31920338669739984)\n",
      "Spearman Correlation: both and FB Likes = SpearmanrResult(correlation=-0.41501956449011251, pvalue=0.022576919242629882)\n",
      "Spearman Correlation: both and Tweets = SpearmanrResult(correlation=-0.26346200957959665, pvalue=0.15951039875380166)\n",
      "Spearman Correlation: both and Comments = SpearmanrResult(correlation=-0.25546250551083755, pvalue=0.17303889698384334)\n"
     ]
    }
   ],
   "source": [
    "import re\n",
    "import numpy as np\n",
    "from collections import Counter\n",
    "\n",
    "ptexts=[open('ps2data/p{}.txt'.format(i)).read() for i in range(30)]\n",
    "testwords = ['of', 'in', 'trump', 'was', 'president', 'order', 'more', 'were',\n",
    "             'what', 'court', 'one', 'law', 'been', 'senate', 'new', 'executive',\n",
    "             'people', 'democrats', 'should', 'could', 'american', 'immigration', 'republicans', 'against',\n",
    "             'government', 'up', 'national', 'some', 'down', 'obama', 'another', 'both']\n",
    "\n",
    "for x in testwords:\n",
    "    test_word_count = []\n",
    "    for text in ptexts:\n",
    "        word_count = Counter(re.findall(\"[a-z']+\", text.lower()))\n",
    "        test_word_count.append(word_count[x])\n",
    "    print 'Pearson Correlation:', x, 'and FB Likes =', stats.pearsonr(test_word_count, fblikes)\n",
    "    print 'Pearson Correlation:', x, 'and Tweets =', stats.pearsonr(test_word_count, tweets)\n",
    "    print 'Pearson Correlation:', x, 'and Comments =', stats.pearsonr(test_word_count, comments)\n",
    "    print 'Spearman Correlation:', x, 'and FB Likes =', stats.spearmanr(test_word_count, fblikes)\n",
    "    print 'Spearman Correlation:', x, 'and Tweets =', stats.spearmanr(test_word_count, tweets)\n",
    "    print 'Spearman Correlation:', x, 'and Comments =', stats.spearmanr(test_word_count, comments)"
   ]
  },
  {
   "cell_type": "markdown",
   "metadata": {},
   "source": [
    "FB Likes: national (0.40831088674815019), new (-0.44594917753371549) \n",
    "\n",
    "Tweets: should (0.58340815303081528), new (-0.43544033502909446) \n",
    "\n",
    "Comments: been (-0.36678408052217609), another (-0.44447944666057781"
   ]
  },
  {
   "cell_type": "code",
   "execution_count": 65,
   "metadata": {
    "collapsed": true
   },
   "outputs": [],
   "source": [
    "national_count = []\n",
    "new_count = []\n",
    "should_count = []\n",
    "been_count = []\n",
    "another_count = []\n",
    "\n",
    "for text in ptexts:\n",
    "    word_count = Counter(re.findall(\"[a-z']+\", text.lower()))\n",
    "    national_count.append(word_count['national'])\n",
    "    new_count.append(word_count['new'])\n",
    "    should_count.append(word_count['should'])\n",
    "    been_count.append(word_count['been'])\n",
    "    another_count.append(word_count['another'])"
   ]
  },
  {
   "cell_type": "code",
   "execution_count": 66,
   "metadata": {
    "collapsed": true
   },
   "outputs": [],
   "source": [
    "import matplotlib.pyplot as plt\n",
    "%matplotlib inline\n",
    "import numpy as np"
   ]
  },
  {
   "cell_type": "code",
   "execution_count": 67,
   "metadata": {
    "collapsed": false
   },
   "outputs": [
    {
     "data": {
      "text/plain": [
       "<matplotlib.text.Text at 0x113f78390>"
      ]
     },
     "execution_count": 67,
     "metadata": {},
     "output_type": "execute_result"
    },
    {
     "data": {
      "image/png": "[encoded data removed]",
      "text/plain": [
       "<matplotlib.figure.Figure at 0x111e358d0>"
      ]
     },
     "metadata": {},
     "output_type": "display_data"
    }
   ],
   "source": [
    "slope, intercept, r_value, p_value, std_err = stats.linregress(national_count, fblikes)\n",
    "linRegArray = []\n",
    "for x in national_count:\n",
    "    temp = intercept + slope*x\n",
    "    linRegArray.append(temp)\n",
    "\n",
    "plt.figure(figsize = (8,6))\n",
    "plt.plot(national_count, fblikes, 'o')\n",
    "plt.plot(national_count, linRegArray, 'red')\n",
    "plt.title('Correlation Between Count of National and FB Likes')\n",
    "plt.xlabel('Occurrences of Word \"National\"')\n",
    "plt.ylabel('FB Likes')"
   ]
  },
  {
   "cell_type": "code",
   "execution_count": 68,
   "metadata": {
    "collapsed": false
   },
   "outputs": [
    {
     "data": {
      "text/plain": [
       "<matplotlib.text.Text at 0x1127ad9d0>"
      ]
     },
     "execution_count": 68,
     "metadata": {},
     "output_type": "execute_result"
    },
    {
     "data": {
      "image/png": "[encoded data removed]",
      "text/plain": [
       "<matplotlib.figure.Figure at 0x110ff8dd0>"
      ]
     },
     "metadata": {},
     "output_type": "display_data"
    }
   ],
   "source": [
    "slope, intercept, r_value, p_value, std_err = stats.linregress(new_count, fblikes)\n",
    "linRegArray = []\n",
    "for x in new_count:\n",
    "    temp = intercept + slope*x\n",
    "    linRegArray.append(temp)\n",
    "\n",
    "plt.figure(figsize = (8,6))\n",
    "plt.plot(new_count, fblikes, 'o')\n",
    "plt.plot(new_count, linRegArray, 'red')\n",
    "plt.title('Correlation Between Count of New and FB Likes')\n",
    "plt.xlabel('Occurrences of Word \"New\"')\n",
    "plt.ylabel('FB Likes')"
   ]
  },
  {
   "cell_type": "code",
   "execution_count": 69,
   "metadata": {
    "collapsed": false
   },
   "outputs": [
    {
     "data": {
      "text/plain": [
       "<matplotlib.text.Text at 0x113f01ed0>"
      ]
     },
     "execution_count": 69,
     "metadata": {},
     "output_type": "execute_result"
    },
    {
     "data": {
      "image/png": "[encoded data removed]",
      "text/plain": [
       "<matplotlib.figure.Figure at 0x113f13610>"
      ]
     },
     "metadata": {},
     "output_type": "display_data"
    }
   ],
   "source": [
    "slope, intercept, r_value, p_value, std_err = stats.linregress(new_count, tweets)\n",
    "linRegArray = []\n",
    "for x in new_count:\n",
    "    temp = intercept + slope*x\n",
    "    linRegArray.append(temp)\n",
    "\n",
    "plt.figure(figsize = (8,6))\n",
    "plt.plot(new_count, tweets, 'o')\n",
    "plt.plot(new_count, linRegArray, 'red')\n",
    "plt.title('Correlation Between Count of New and Tweets')\n",
    "plt.xlabel('Occurrences of Word \"New\"')\n",
    "plt.ylabel('Tweets')"
   ]
  },
  {
   "cell_type": "code",
   "execution_count": 70,
   "metadata": {
    "collapsed": false
   },
   "outputs": [
    {
     "data": {
      "text/plain": [
       "<matplotlib.text.Text at 0x1147a3550>"
      ]
     },
     "execution_count": 70,
     "metadata": {},
     "output_type": "execute_result"
    },
    {
     "data": {
      "image/png": "[encoded data removed]",
      "text/plain": [
       "<matplotlib.figure.Figure at 0x114c559d0>"
      ]
     },
     "metadata": {},
     "output_type": "display_data"
    }
   ],
   "source": [
    "slope, intercept, r_value, p_value, std_err = stats.linregress(should_count, tweets)\n",
    "linRegArray = []\n",
    "for x in should_count:\n",
    "    temp = intercept + slope*x\n",
    "    linRegArray.append(temp)\n",
    "\n",
    "plt.figure(figsize = (8,6))\n",
    "plt.plot(should_count, fblikes, 'o')\n",
    "plt.plot(should_count, linRegArray, 'red')\n",
    "plt.title('Correlation Between Count of Should and Tweets')\n",
    "plt.xlabel('Occurrences of Word \"Should\"')\n",
    "plt.ylabel('Tweets')"
   ]
  },
  {
   "cell_type": "code",
   "execution_count": 71,
   "metadata": {
    "collapsed": false
   },
   "outputs": [
    {
     "data": {
      "text/plain": [
       "<matplotlib.text.Text at 0x114e77790>"
      ]
     },
     "execution_count": 71,
     "metadata": {},
     "output_type": "execute_result"
    },
    {
     "data": {
      "image/png": "[encoded data removed]",
      "text/plain": [
       "<matplotlib.figure.Figure at 0x114e8e750>"
      ]
     },
     "metadata": {},
     "output_type": "display_data"
    }
   ],
   "source": [
    "slope, intercept, r_value, p_value, std_err = stats.linregress(been_count, comments)\n",
    "linRegArray = []\n",
    "for x in been_count:\n",
    "    temp = intercept + slope*x\n",
    "    linRegArray.append(temp)\n",
    "\n",
    "plt.figure(figsize = (8,6))\n",
    "plt.plot(been_count, comments, 'o')\n",
    "plt.plot(been_count, linRegArray, 'red')\n",
    "plt.title('Correlation Between Count of Been and Comments')\n",
    "plt.xlabel('Occurrences of Word \"Been\"')\n",
    "plt.ylabel('Comments')"
   ]
  },
  {
   "cell_type": "code",
   "execution_count": 72,
   "metadata": {
    "collapsed": false
   },
   "outputs": [
    {
     "data": {
      "text/plain": [
       "<matplotlib.text.Text at 0x11523cf90>"
      ]
     },
     "execution_count": 72,
     "metadata": {},
     "output_type": "execute_result"
    },
    {
     "data": {
      "image/png": "[encoded data removed]",
      "text/plain": [
       "<matplotlib.figure.Figure at 0x114e8e350>"
      ]
     },
     "metadata": {},
     "output_type": "display_data"
    }
   ],
   "source": [
    "slope, intercept, r_value, p_value, std_err = stats.linregress(another_count, comments)\n",
    "linRegArray = []\n",
    "for x in another_count:\n",
    "    temp = intercept + slope*x\n",
    "    linRegArray.append(temp)\n",
    "\n",
    "plt.figure(figsize = (8,6))\n",
    "plt.plot(another_count, comments, 'o')\n",
    "plt.plot(another_count, linRegArray, 'red')\n",
    "plt.title('Correlation Between Count of Another and Comments')\n",
    "plt.xlabel('Occurrences of Word \"Another\"')\n",
    "plt.ylabel('Comments')"
   ]
  },
  {
   "cell_type": "markdown",
   "metadata": {
    "collapsed": true
   },
   "source": [
    "# Question 4"
   ]
  },
  {
   "cell_type": "markdown",
   "metadata": {},
   "source": [
    "A)"
   ]
  },
  {
   "cell_type": "code",
   "execution_count": 73,
   "metadata": {
    "collapsed": true
   },
   "outputs": [],
   "source": [
    "import matplotlib.pyplot as plt\n",
    "%matplotlib inline\n",
    "import numpy as np"
   ]
  },
  {
   "cell_type": "code",
   "execution_count": 74,
   "metadata": {
    "collapsed": false
   },
   "outputs": [
    {
     "data": {
      "text/plain": [
       "<matplotlib.text.Text at 0x1153bf390>"
      ]
     },
     "execution_count": 74,
     "metadata": {},
     "output_type": "execute_result"
    },
    {
     "data": {
      "image/png": "[encoded data removed]",
      "text/plain": [
       "<matplotlib.figure.Figure at 0x115322990>"
      ]
     },
     "metadata": {},
     "output_type": "display_data"
    }
   ],
   "source": [
    "cdc0= open('cdc0.txt').read()\n",
    "\n",
    "rates1 = []\n",
    "rows = cdc0.split('\\n')\n",
    "\n",
    "for row in rows:\n",
    "    data= row.split('\\t')\n",
    "    if len(data) == 12:\n",
    "        if data[0] == '\"Total\"' and data[1] == '\"White\"' and data[5]== '\"Not Hispanic or Latino\"':\n",
    "            rates1.append(data[11])\n",
    "            \n",
    "rates2 = []\n",
    "for x in rates:\n",
    "    x = x[:-1]\n",
    "    rates2.append(float(x))\n",
    "\n",
    "years = range(1999,2016)\n",
    "plt.title(\"Mortality Rates for Non-Hispanic Whites Aged 45-54\")\n",
    "plt.plot(years, rates2)\n",
    "plt.ylabel(\"Deaths per 100,000\")"
   ]
  },
  {
   "cell_type": "markdown",
   "metadata": {},
   "source": [
    "B)"
   ]
  },
  {
   "cell_type": "markdown",
   "metadata": {},
   "source": [
    "I."
   ]
  },
  {
   "cell_type": "code",
   "execution_count": 75,
   "metadata": {
    "collapsed": false
   },
   "outputs": [
    {
     "data": {
      "text/plain": [
       "<matplotlib.text.Text at 0x115512390>"
      ]
     },
     "execution_count": 75,
     "metadata": {},
     "output_type": "execute_result"
    },
    {
     "data": {
      "image/png": "[encoded data removed]",
      "text/plain": [
       "<matplotlib.figure.Figure at 0x1150db450>"
      ]
     },
     "metadata": {},
     "output_type": "display_data"
    }
   ],
   "source": [
    "cdc0 = open('cdc0.txt').read()\n",
    "\n",
    "male_rates = []\n",
    "female_rates = []\n",
    "rows = cdc0.split('\\n')\n",
    "for row in rows:\n",
    "    data= row.split('\\t')\n",
    "    if len(data) == 12:\n",
    "        if data[7] == '\"Male\"' and data [1] == '\"White\"' and data[5] == '\"Not Hispanic or Latino\"':\n",
    "            male_rates.append(data[11])\n",
    "        elif data[7] == '\"Female\"' and data [1] == '\"White\"' and data[5] == '\"Not Hispanic or Latino\"':\n",
    "            female_rates.append(data[11])\n",
    "            \n",
    "\n",
    "male_rates_2=[]\n",
    "for x in male_rates:\n",
    "    x = x[:-1]\n",
    "    male_rates_2.append(float(x)/483.7)\n",
    "\n",
    "female_rates_2=[]\n",
    "for x in female_rates:\n",
    "    x = x[:-1]\n",
    "    female_rates_2.append(float(x)/281.0)\n",
    "\n",
    "    \n",
    "years = range(1999,2016)\n",
    "plt.title(\" Mortality Rates for Non-Hispanic Whites Aged 45-54\")\n",
    "plt.plot(years,male_rates_2)\n",
    "plt.ylabel(\"Deaths per 100,000\")\n",
    "    \n",
    "years = range(1999,2016)\n",
    "plt.title(\" Mortality Rates for Non-Hispanic Whites Aged 45-54\")\n",
    "plt.plot(years,female_rates_2)\n",
    "plt.ylabel(\"Deaths per 100,000\")\n"
   ]
  },
  {
   "cell_type": "markdown",
   "metadata": {},
   "source": [
    "II."
   ]
  },
  {
   "cell_type": "code",
   "execution_count": 76,
   "metadata": {
    "collapsed": true
   },
   "outputs": [],
   "source": [
    "from scipy import stats"
   ]
  },
  {
   "cell_type": "code",
   "execution_count": 77,
   "metadata": {
    "collapsed": false
   },
   "outputs": [
    {
     "name": "stdout",
     "output_type": "stream",
     "text": [
      "0.157979205917\n",
      "0.0274680060157\n"
     ]
    }
   ],
   "source": [
    "slopeF, interceptF, r_valueF, p_valueF, std_err = stats.linregress(years, ratesFemale2)\n",
    "slopeM, interceptM, r_valueM, p_valueM, std_err = stats.linregress(years, ratesMale2)\n",
    "\n",
    "slopeF = slopeF * 16\n",
    "slopeM = slopeM * 16\n",
    "\n",
    "print slopeF\n",
    "print slopeM"
   ]
  },
  {
   "cell_type": "markdown",
   "metadata": {},
   "source": [
    "C)"
   ]
  },
  {
   "cell_type": "markdown",
   "metadata": {},
   "source": [
    "I."
   ]
  },
  {
   "cell_type": "code",
   "execution_count": 85,
   "metadata": {
    "collapsed": false
   },
   "outputs": [
    {
     "name": "stdout",
     "output_type": "stream",
     "text": [
      "Men in Region 1 = 0.00311070014463\n",
      "Men in Region 2 = -0.133192563531\n",
      "Men in Region 3 = 0.0402757989009\n",
      "Men in Region 4 = 0.069405921878\n",
      "Men in Region 5 = 0.0456301157028\n",
      "Men in Region 6 = 0.070853498154\n",
      "Men in Region 7 = 0.143106009048\n",
      "Men in Region 8 = 0.0678836365807\n",
      "Men in Region 9 = -0.109288745531\n",
      "Men in Region 10 = 0.0305362705519\n",
      "Women in Region 1 = -0.014868883482\n",
      "Women in Region 2 = -0.100746022315\n",
      "Women in Region 3 = 0.147284452014\n",
      "Women in Region 4 = 0.304563302962\n",
      "Women in Region 5 = 0.145103853254\n",
      "Women in Region 6 = 0.262463645745\n",
      "Women in Region 7 = 0.279549449637\n",
      "Women in Region 8 = 0.164223021402\n",
      "Women in Region 9 = 0.00904175623738\n",
      "Women in Region 10 = 0.151592535844\n"
     ]
    }
   ],
   "source": [
    "F1 = []\n",
    "F2 = []\n",
    "F3 = []\n",
    "F4 = []\n",
    "F5 = []\n",
    "F6 = []\n",
    "F7 = []\n",
    "F8 = []\n",
    "F9 = []\n",
    "F10 = []\n",
    "M1 = []\n",
    "M2 = []\n",
    "M3 = []\n",
    "M4 = []\n",
    "M5 = []\n",
    "M6 = []\n",
    "M7 = []\n",
    "M8 = []\n",
    "M9 = []\n",
    "M10 = []\n",
    "\n",
    "cdc1 = open('cdc1.txt').read()\n",
    "rows = cdc1.split('\\n')\n",
    "\n",
    "for row in rows:\n",
    "    data = row.split('\\t')\n",
    "    if len(data) == 14:\n",
    "        if data[1] == '\"White\"' and data[5] == '\"Not Hispanic or Latino\"' and data[7] == '\"Female\"' and data[10] == '\"HHS1\"':\n",
    "            F1.append(data[13])\n",
    "        if data[1] == '\"White\"' and data[5] == '\"Not Hispanic or Latino\"' and data[7] == '\"Female\"' and data[10] == '\"HHS2\"':\n",
    "            F2.append(data[13])\n",
    "        if data[1] == '\"White\"' and data[5] == '\"Not Hispanic or Latino\"' and data[7] == '\"Female\"' and data[10] == '\"HHS3\"':\n",
    "            F3.append(data[13])\n",
    "        if data[1] == '\"White\"' and data[5] == '\"Not Hispanic or Latino\"' and data[7] == '\"Female\"' and data[10] == '\"HHS4\"':\n",
    "            F4.append(data[13])\n",
    "        if data[1] == '\"White\"' and data[5] == '\"Not Hispanic or Latino\"' and data[7] == '\"Female\"' and data[10] == '\"HHS5\"':\n",
    "            F5.append(data[13])\n",
    "        if data[1] == '\"White\"' and data[5] == '\"Not Hispanic or Latino\"' and data[7] == '\"Female\"' and data[10] == '\"HHS6\"':\n",
    "            F6.append(data[13])\n",
    "        if data[1] == '\"White\"' and data[5] == '\"Not Hispanic or Latino\"' and data[7] == '\"Female\"' and data[10] == '\"HHS7\"':\n",
    "            F7.append(data[13])\n",
    "        if data[1] == '\"White\"' and data[5] == '\"Not Hispanic or Latino\"' and data[7] == '\"Female\"' and data[10] == '\"HHS8\"':\n",
    "            F8.append(data[13])\n",
    "        if data[1] == '\"White\"' and data[5] == '\"Not Hispanic or Latino\"' and data[7] == '\"Female\"' and data[10] == '\"HHS9\"':\n",
    "            F9.append(data[13])\n",
    "        if data[1] == '\"White\"' and data[5] == '\"Not Hispanic or Latino\"' and data[7] == '\"Female\"' and data[10] == '\"HHS10\"':\n",
    "            F10.append(data[13])\n",
    "        if data[1] == '\"White\"' and data[5] == '\"Not Hispanic or Latino\"' and data[7] == '\"Male\"' and data[10] == '\"HHS1\"':\n",
    "            M1.append(data[13])\n",
    "        if data[1] == '\"White\"' and data[5] == '\"Not Hispanic or Latino\"' and data[7] == '\"Male\"' and data[10] == '\"HHS2\"':\n",
    "            M2.append(data[13])\n",
    "        if data[1] == '\"White\"' and data[5] == '\"Not Hispanic or Latino\"' and data[7] == '\"Male\"' and data[10] == '\"HHS3\"':\n",
    "            M3.append(data[13])\n",
    "        if data[1] == '\"White\"' and data[5] == '\"Not Hispanic or Latino\"' and data[7] == '\"Male\"' and data[10] == '\"HHS4\"':\n",
    "            M4.append(data[13])\n",
    "        if data[1] == '\"White\"' and data[5] == '\"Not Hispanic or Latino\"' and data[7] == '\"Male\"' and data[10] == '\"HHS5\"':\n",
    "            M5.append(data[13])\n",
    "        if data[1] == '\"White\"' and data[5] == '\"Not Hispanic or Latino\"' and data[7] == '\"Male\"' and data[10] == '\"HHS6\"':\n",
    "            M6.append(data[13])\n",
    "        if data[1] == '\"White\"' and data[5] == '\"Not Hispanic or Latino\"' and data[7] == '\"Male\"' and data[10] == '\"HHS7\"':\n",
    "            M7.append(data[13])\n",
    "        if data[1] == '\"White\"' and data[5] == '\"Not Hispanic or Latino\"' and data[7] == '\"Male\"' and data[10] == '\"HHS8\"':\n",
    "            M8.append(data[13])\n",
    "        if data[1] == '\"White\"' and data[5] == '\"Not Hispanic or Latino\"' and data[7] == '\"Male\"' and data[10] == '\"HHS9\"':\n",
    "            M9.append(data[13])\n",
    "        if data[1] == '\"White\"' and data[5] == '\"Not Hispanic or Latino\"' and data[7] == '\"Male\"' and data[10] == '\"HHS10\"':\n",
    "            M10.append(data[13])\n",
    "\n",
    "male_deaths_1 = []\n",
    "for x in M1:\n",
    "    x = x[:-1]\n",
    "    male_deaths_1.append(float(x)/413.5)\n",
    "    \n",
    "male_deaths_2 = []\n",
    "for x in M2:\n",
    "    x = x[:-1]\n",
    "    male_deaths_2.append(float(x)/451.3)\n",
    "    \n",
    "male_deaths_3 = []\n",
    "for x in M3:\n",
    "    x = x[:-1]\n",
    "    male_deaths_3.append(float(x)/462.4)\n",
    "    \n",
    "male_deaths_4 = []\n",
    "for x in M4:\n",
    "    x = x[:-1]\n",
    "    male_deaths_4.append(float(x)/570.5)\n",
    "    \n",
    "male_deaths_5 = []\n",
    "for x in M5:\n",
    "    x = x[:-1]\n",
    "    male_deaths_5.append(float(x)/451.8)\n",
    "    \n",
    "male_deaths_6 = []\n",
    "for x in M6:\n",
    "    x = x[:-1]\n",
    "    male_deaths_6.append(float(x)/526.3)\n",
    "    \n",
    "male_deaths_7 = []\n",
    "for x in M7:\n",
    "    x = x[:-1]\n",
    "    male_deaths_7.append(float(x)/458.1)\n",
    "    \n",
    "male_deaths_8 = []\n",
    "for x in M8:\n",
    "    x = x[:-1]\n",
    "    male_deaths_8.append(float(x)/394.1)\n",
    "    \n",
    "male_deaths_9 = []\n",
    "for x in M9:\n",
    "    x = x[:-1]\n",
    "    male_deaths_9.append(float(x)/516.1)\n",
    "    \n",
    "male_deaths_10 = []\n",
    "for x in M10:\n",
    "    x = x[:-1]\n",
    "    male_deaths_10.append(float(x)/421.1)\n",
    "    \n",
    "female_deaths_1 = []\n",
    "for x in F1:\n",
    "    x = x[:-1]\n",
    "    female_deaths_1.append(float(x)/246.6)\n",
    "    \n",
    "female_deaths_2 = []\n",
    "for x in F2:\n",
    "    x = x[:-1]\n",
    "    female_deaths_2.append(float(x)/267.3)\n",
    "    \n",
    "female_deaths_3 = []\n",
    "for x in F3:\n",
    "    x = x[:-1]\n",
    "    female_deaths_3.append(float(x)/269.4)\n",
    "    \n",
    "female_deaths_4 = []\n",
    "for x in F4:\n",
    "    x = x[:-1]\n",
    "    female_deaths_4.append(float(x)/308.6)\n",
    "    \n",
    "female_deaths_5 = []\n",
    "for x in F5:\n",
    "    x = x[:-1]\n",
    "    female_deaths_5.append(float(x)/269.8)\n",
    "    \n",
    "female_deaths_6 = []\n",
    "for x in F6:\n",
    "    x = x[:-1]\n",
    "    female_deaths_6.append(float(x)/313.5)\n",
    "    \n",
    "female_deaths_7 = []\n",
    "for x in F7:\n",
    "    x = x[:-1]\n",
    "    female_deaths_7.append(float(x)/259.9)\n",
    "    \n",
    "female_deaths_8 = []\n",
    "for x in F8:\n",
    "    x = x[:-1]\n",
    "    female_deaths_8.append(float(x)/233.9)\n",
    "    \n",
    "female_deaths_9 = []\n",
    "for x in F9:\n",
    "    x = x[:-1]\n",
    "    female_deaths_9.append(float(x)/301.0)\n",
    "    \n",
    "female_deaths_10 = []\n",
    "for x in F10:\n",
    "    x = x[:-1]\n",
    "    female_deaths_10.append(float(x)/264.9)\n",
    "\n",
    "slopeM1, interceptM, r_valueM, p_valueM, std_errM = stats.linregress(years, male_deaths_1)\n",
    "slopeM2, interceptM, r_valueM, p_valueM, std_errM = stats.linregress(years, male_deaths_2)\n",
    "slopeM3, interceptM, r_valueM, p_valueM, std_errM = stats.linregress(years, male_deaths_3)\n",
    "slopeM4, interceptM, r_valueM, p_valueM, std_errM = stats.linregress(years, male_deaths_4)\n",
    "slopeM5, interceptM, r_valueM, p_valueM, std_errM = stats.linregress(years, male_deaths_5)\n",
    "slopeM6, interceptM, r_valueM, p_valueM, std_errM = stats.linregress(years, male_deaths_6)\n",
    "slopeM7, interceptM, r_valueM, p_valueM, std_errM = stats.linregress(years, male_deaths_7)\n",
    "slopeM8, interceptM, r_valueM, p_valueM, std_errM = stats.linregress(years, male_deaths_8)\n",
    "slopeM9, interceptM, r_valueM, p_valueM, std_errM = stats.linregress(years, male_deaths_9)\n",
    "slopeM10, interceptM, r_valueM, p_valueM, std_errM = stats.linregress(years, male_deaths_10)\n",
    "\n",
    "slopeF1, interceptF, r_valueF, p_valueF, std_errF = stats.linregress(years, female_deaths_1)\n",
    "slopeF2, interceptF, r_valueF, p_valueF, std_errF = stats.linregress(years, female_deaths_2)\n",
    "slopeF3, interceptF, r_valueF, p_valueF, std_errF = stats.linregress(years, female_deaths_3)\n",
    "slopeF4, interceptF, r_valueF, p_valueF, std_errF = stats.linregress(years, female_deaths_4)\n",
    "slopeF5, interceptF, r_valueF, p_valueF, std_errF = stats.linregress(years, female_deaths_5)\n",
    "slopeF6, interceptF, r_valueF, p_valueF, std_errF = stats.linregress(years, female_deaths_6)\n",
    "slopeF7, interceptF, r_valueF, p_valueF, std_errF = stats.linregress(years, female_deaths_7)\n",
    "slopeF8, interceptF, r_valueF, p_valueF, std_errF = stats.linregress(years, female_deaths_8)\n",
    "slopeF9, interceptF, r_valueF, p_valueF, std_errF = stats.linregress(years, female_deaths_9)\n",
    "slopeF10, interceptF, r_valueF, p_valueF, std_errF = stats.linregress(years, female_deaths_10)\n",
    "\n",
    "slopeM1 = slopeM1 * 16\n",
    "slopeM2 = slopeM2 * 16\n",
    "slopeM3 = slopeM3 * 16\n",
    "slopeM4 = slopeM4 * 16\n",
    "slopeM5 = slopeM5 * 16\n",
    "slopeM6 = slopeM6 * 16\n",
    "slopeM7 = slopeM7 * 16\n",
    "slopeM8 = slopeM8 * 16\n",
    "slopeM9 = slopeM9 * 16\n",
    "slopeM10 = slopeM10 * 16\n",
    "\n",
    "slopeF1 = slopeF1 * 16\n",
    "slopeF2 = slopeF2 * 16\n",
    "slopeF3 = slopeF3 * 16\n",
    "slopeF4 = slopeF4 * 16\n",
    "slopeF5 = slopeF5 * 16\n",
    "slopeF6 = slopeF6 * 16\n",
    "slopeF7 = slopeF7 * 16\n",
    "slopeF8 = slopeF8 * 16\n",
    "slopeF9 = slopeF9 * 16\n",
    "slopeF10 = slopeF10 * 16\n",
    "\n",
    "print 'Men in Region 1 =', slopeM1\n",
    "print 'Men in Region 2 =', slopeM2\n",
    "print 'Men in Region 3 =', slopeM3\n",
    "print 'Men in Region 4 =', slopeM4\n",
    "print 'Men in Region 5 =', slopeM5\n",
    "print 'Men in Region 6 =', slopeM6\n",
    "print 'Men in Region 7 =', slopeM7\n",
    "print 'Men in Region 8 =', slopeM8\n",
    "print 'Men in Region 9 =', slopeM9\n",
    "print 'Men in Region 10 =', slopeM10\n",
    "print 'Women in Region 1 =', slopeF1\n",
    "print 'Women in Region 2 =', slopeF2\n",
    "print 'Women in Region 3 =', slopeF3\n",
    "print 'Women in Region 4 =', slopeF4\n",
    "print 'Women in Region 5 =', slopeF5\n",
    "print 'Women in Region 6 =', slopeF6\n",
    "print 'Women in Region 7 =', slopeF7\n",
    "print 'Women in Region 8 =', slopeF8\n",
    "print 'Women in Region 9 =', slopeF9\n",
    "print 'Women in Region 10 =', slopeF10\n"
   ]
  },
  {
   "cell_type": "markdown",
   "metadata": {},
   "source": [
    "II."
   ]
  },
  {
   "cell_type": "code",
   "execution_count": 88,
   "metadata": {
    "collapsed": false
   },
   "outputs": [
    {
     "ename": "IOError",
     "evalue": "cannot locate st99_d90.shp",
     "output_type": "error",
     "traceback": [
      "\u001b[0;31m---------------------------------------------------------------------------\u001b[0m",
      "\u001b[0;31mIOError\u001b[0m                                   Traceback (most recent call last)",
      "\u001b[0;32m<ipython-input-88-0a70813d2664>\u001b[0m in \u001b[0;36m<module>\u001b[0;34m()\u001b[0m\n\u001b[1;32m     10\u001b[0m m = Basemap(llcrnrlon=-119,llcrnrlat=22,urcrnrlon=-64,urcrnrlat=49,\n\u001b[1;32m     11\u001b[0m              projection='lcc',lat_1=33,lat_2=45,lon_0=-95)\n\u001b[0;32m---> 12\u001b[0;31m \u001b[0mm\u001b[0m\u001b[0;34m.\u001b[0m\u001b[0mreadshapefile\u001b[0m\u001b[0;34m(\u001b[0m\u001b[0;34m'st99_d90'\u001b[0m\u001b[0;34m,\u001b[0m\u001b[0;34m'states'\u001b[0m\u001b[0;34m,\u001b[0m\u001b[0mdrawbounds\u001b[0m\u001b[0;34m=\u001b[0m\u001b[0mTrue\u001b[0m\u001b[0;34m)\u001b[0m\u001b[0;34m\u001b[0m\u001b[0m\n\u001b[0m\u001b[1;32m     13\u001b[0m \u001b[0;34m\u001b[0m\u001b[0m\n\u001b[1;32m     14\u001b[0m \u001b[0mHHS1\u001b[0m \u001b[0;34m=\u001b[0m \u001b[0;34m[\u001b[0m\u001b[0;34m'Connecticut'\u001b[0m\u001b[0;34m,\u001b[0m \u001b[0;34m'Maine'\u001b[0m\u001b[0;34m,\u001b[0m \u001b[0;34m'Massachusetts'\u001b[0m\u001b[0;34m,\u001b[0m \u001b[0;34m'New Hampshire'\u001b[0m\u001b[0;34m,\u001b[0m \u001b[0;34m'Rhode Island'\u001b[0m\u001b[0;34m,\u001b[0m \u001b[0;34m'Vermont'\u001b[0m\u001b[0;34m]\u001b[0m\u001b[0;34m\u001b[0m\u001b[0m\n",
      "\u001b[0;32m/Users/alannafischer/anaconda/lib/python2.7/site-packages/mpl_toolkits/basemap/__init__.pyc\u001b[0m in \u001b[0;36mreadshapefile\u001b[0;34m(self, shapefile, name, drawbounds, zorder, linewidth, color, antialiased, ax, default_encoding)\u001b[0m\n\u001b[1;32m   2122\u001b[0m         \u001b[0mshp\u001b[0m\u001b[0;34m.\u001b[0m\u001b[0mdefault_encoding\u001b[0m \u001b[0;34m=\u001b[0m \u001b[0mdefault_encoding\u001b[0m\u001b[0;34m\u001b[0m\u001b[0m\n\u001b[1;32m   2123\u001b[0m         \u001b[0;32mif\u001b[0m \u001b[0;32mnot\u001b[0m \u001b[0mos\u001b[0m\u001b[0;34m.\u001b[0m\u001b[0mpath\u001b[0m\u001b[0;34m.\u001b[0m\u001b[0mexists\u001b[0m\u001b[0;34m(\u001b[0m\u001b[0;34m'%s.shp'\u001b[0m\u001b[0;34m%\u001b[0m\u001b[0mshapefile\u001b[0m\u001b[0;34m)\u001b[0m\u001b[0;34m:\u001b[0m\u001b[0;34m\u001b[0m\u001b[0m\n\u001b[0;32m-> 2124\u001b[0;31m             \u001b[0;32mraise\u001b[0m \u001b[0mIOError\u001b[0m\u001b[0;34m(\u001b[0m\u001b[0;34m'cannot locate %s.shp'\u001b[0m\u001b[0;34m%\u001b[0m\u001b[0mshapefile\u001b[0m\u001b[0;34m)\u001b[0m\u001b[0;34m\u001b[0m\u001b[0m\n\u001b[0m\u001b[1;32m   2125\u001b[0m         \u001b[0;32mif\u001b[0m \u001b[0;32mnot\u001b[0m \u001b[0mos\u001b[0m\u001b[0;34m.\u001b[0m\u001b[0mpath\u001b[0m\u001b[0;34m.\u001b[0m\u001b[0mexists\u001b[0m\u001b[0;34m(\u001b[0m\u001b[0;34m'%s.shx'\u001b[0m\u001b[0;34m%\u001b[0m\u001b[0mshapefile\u001b[0m\u001b[0;34m)\u001b[0m\u001b[0;34m:\u001b[0m\u001b[0;34m\u001b[0m\u001b[0m\n\u001b[1;32m   2126\u001b[0m             \u001b[0;32mraise\u001b[0m \u001b[0mIOError\u001b[0m\u001b[0;34m(\u001b[0m\u001b[0;34m'cannot locate %s.shx'\u001b[0m\u001b[0;34m%\u001b[0m\u001b[0mshapefile\u001b[0m\u001b[0;34m)\u001b[0m\u001b[0;34m\u001b[0m\u001b[0m\n",
      "\u001b[0;31mIOError\u001b[0m: cannot locate st99_d90.shp"
     ]
    },
    {
     "data": {
      "text/plain": [
       "<matplotlib.figure.Figure at 0x1154e1550>"
      ]
     },
     "metadata": {},
     "output_type": "display_data"
    }
   ],
   "source": [
    "#Men\n",
    "\n",
    "from mpl_toolkits.basemap import Basemap\n",
    "from mpl_toolkits.basemap import Basemap\n",
    "%matplotlib inline\n",
    "import matplotlib.pyplot as plt\n",
    "import numpy as np\n",
    "\n",
    "plt.figure(figsize=(12,6))\n",
    "m = Basemap(llcrnrlon=-119,llcrnrlat=22,urcrnrlon=-64,urcrnrlat=49,\n",
    "             projection='lcc',lat_1=33,lat_2=45,lon_0=-95)\n",
    "m.readshapefile('st99_d90','states',drawbounds=True) \n",
    "\n",
    "HHS1 = ['Connecticut', 'Maine', 'Massachusetts', 'New Hampshire', 'Rhode Island', 'Vermont']\n",
    "HHS2 = ['New Jersey', 'New York']\n",
    "HHS3 = ['Delaware', 'Maryland', 'Pennsylvania', 'Virginia', 'West Virginia']\n",
    "HHS4 = ['Alabama', 'Florida', 'Georgia', 'Kentucky', 'Mississippi', 'North Carolina', 'South Carolina', 'Tennessee']\n",
    "HHS5 = ['Illinois', 'Indiana', 'Michigan', 'Minnesota', 'Ohio', 'Wisconsin']\n",
    "HHS6 = ['Arkansas', 'Louisiana', 'New Mexico', 'Oklahoma', 'Texas']\n",
    "HHS7 = ['Iowa', 'Kansas', 'Missouri', 'Nebraska']\n",
    "HHS8 = ['Colorado', 'Montana', 'North Dakota', 'South Dakota', 'Utah', 'Wyoming']\n",
    "HHS9 = ['Arizona', 'California', 'Nevada']\n",
    "HHS10 = ['Idaho', 'Oregon', 'Washington']\n",
    "\n",
    "for x in HHS1:\n",
    "    for polygon,info in zip(m.states,m.states_info):\n",
    "        if info['NAME'] == x:\n",
    "                mycmap = plt.cm.get_cmap('seismic')\n",
    "                xdata,ydata = zip(*polygon)\n",
    "                plt.fill(xdata,ydata, color =mycmap(.51))\n",
    "for x in HHS2:\n",
    "    for polygon,info in zip(m.states,m.states_info):\n",
    "        if info['NAME'] == x:\n",
    "                mycmap = plt.cm.get_cmap('seismic')\n",
    "                xdata,ydata = zip(*polygon)\n",
    "                plt.fill(xdata,ydata, color =mycmap(.025))\n",
    "                \n",
    "for x in HHS3:\n",
    "    for polygon,info in zip(m.states,m.states_info):\n",
    "        if info['NAME'] == x:\n",
    "                mycmap = plt.cm.get_cmap('seismic')\n",
    "                xdata,ydata = zip(*polygon)\n",
    "                plt.fill(xdata,ydata, color =mycmap(.64))\n",
    "                \n",
    "for x in HHS4:\n",
    "    for polygon,info in zip(m.states,m.states_info):\n",
    "        if info['NAME'] == x:\n",
    "                mycmap = plt.cm.get_cmap('seismic')\n",
    "                xdata,ydata = zip(*polygon)\n",
    "                plt.fill(xdata,ydata, color =mycmap(.75))\n",
    "\n",
    "for x in HHS5:\n",
    "    for polygon,info in zip(m.states,m.states_info):\n",
    "        if info['NAME'] == x:\n",
    "                mycmap = plt.cm.get_cmap('seismic')\n",
    "                xdata,ydata = zip(*polygon)\n",
    "                plt.fill(xdata,ydata, color =mycmap(.66))\n",
    "                \n",
    "for x in HHS6:\n",
    "    for polygon,info in zip(m.states,m.states_info):\n",
    "        if info['NAME'] == x:\n",
    "                mycmap = plt.cm.get_cmap('seismic')\n",
    "                xdata,ydata = zip(*polygon)\n",
    "                plt.fill(xdata,ydata, color =mycmap(.75))\n",
    "                \n",
    "for x in HHS7:\n",
    "    for polygon,info in zip(m.states,m.states_info):\n",
    "        if info['NAME'] == x:\n",
    "                mycmap = plt.cm.get_cmap('seismic')\n",
    "                xdata,ydata = zip(*polygon)\n",
    "                plt.fill(xdata,ydata, color =mycmap(.999999))\n",
    "                \n",
    "for x in HHS8:\n",
    "    for polygon,info in zip(m.states,m.states_info):\n",
    "        if info['NAME'] == x:\n",
    "                mycmap = plt.cm.get_cmap('seismic')\n",
    "                xdata,ydata = zip(*polygon)\n",
    "                plt.fill(xdata,ydata, color =mycmap(.74))\n",
    "                \n",
    "for x in HHS9:\n",
    "    for polygon,info in zip(m.states,m.states_info):\n",
    "        if info['NAME'] == x:\n",
    "                mycmap = plt.cm.get_cmap('seismic')\n",
    "                xdata,ydata = zip(*polygon)\n",
    "                plt.fill(xdata,ydata, color =mycmap(.11))\n",
    "                \n",
    "for x in HHS10:\n",
    "    for polygon,info in zip(m.states,m.states_info):\n",
    "        if info['NAME'] == x:\n",
    "                mycmap = plt.cm.get_cmap('seismic')\n",
    "                xdata,ydata = zip(*polygon)\n",
    "                plt.fill(xdata,ydata, color =mycmap(.6))"
   ]
  },
  {
   "cell_type": "code",
   "execution_count": 89,
   "metadata": {
    "collapsed": false
   },
   "outputs": [
    {
     "ename": "IOError",
     "evalue": "cannot locate st99_d90.shp",
     "output_type": "error",
     "traceback": [
      "\u001b[0;31m---------------------------------------------------------------------------\u001b[0m",
      "\u001b[0;31mIOError\u001b[0m                                   Traceback (most recent call last)",
      "\u001b[0;32m<ipython-input-89-6d2310738e9f>\u001b[0m in \u001b[0;36m<module>\u001b[0;34m()\u001b[0m\n\u001b[1;32m      8\u001b[0m m = Basemap(llcrnrlon=-119,llcrnrlat=22,urcrnrlon=-64,urcrnrlat=49,\n\u001b[1;32m      9\u001b[0m              projection='lcc',lat_1=33,lat_2=45,lon_0=-95)\n\u001b[0;32m---> 10\u001b[0;31m \u001b[0mm\u001b[0m\u001b[0;34m.\u001b[0m\u001b[0mreadshapefile\u001b[0m\u001b[0;34m(\u001b[0m\u001b[0;34m'st99_d90'\u001b[0m\u001b[0;34m,\u001b[0m\u001b[0;34m'states'\u001b[0m\u001b[0;34m,\u001b[0m\u001b[0mdrawbounds\u001b[0m\u001b[0;34m=\u001b[0m\u001b[0mTrue\u001b[0m\u001b[0;34m)\u001b[0m\u001b[0;34m\u001b[0m\u001b[0m\n\u001b[0m\u001b[1;32m     11\u001b[0m \u001b[0;34m\u001b[0m\u001b[0m\n\u001b[1;32m     12\u001b[0m \u001b[0;32mfor\u001b[0m \u001b[0mx\u001b[0m \u001b[0;32min\u001b[0m \u001b[0mHHS1\u001b[0m\u001b[0;34m:\u001b[0m\u001b[0;34m\u001b[0m\u001b[0m\n",
      "\u001b[0;32m/Users/alannafischer/anaconda/lib/python2.7/site-packages/mpl_toolkits/basemap/__init__.pyc\u001b[0m in \u001b[0;36mreadshapefile\u001b[0;34m(self, shapefile, name, drawbounds, zorder, linewidth, color, antialiased, ax, default_encoding)\u001b[0m\n\u001b[1;32m   2122\u001b[0m         \u001b[0mshp\u001b[0m\u001b[0;34m.\u001b[0m\u001b[0mdefault_encoding\u001b[0m \u001b[0;34m=\u001b[0m \u001b[0mdefault_encoding\u001b[0m\u001b[0;34m\u001b[0m\u001b[0m\n\u001b[1;32m   2123\u001b[0m         \u001b[0;32mif\u001b[0m \u001b[0;32mnot\u001b[0m \u001b[0mos\u001b[0m\u001b[0;34m.\u001b[0m\u001b[0mpath\u001b[0m\u001b[0;34m.\u001b[0m\u001b[0mexists\u001b[0m\u001b[0;34m(\u001b[0m\u001b[0;34m'%s.shp'\u001b[0m\u001b[0;34m%\u001b[0m\u001b[0mshapefile\u001b[0m\u001b[0;34m)\u001b[0m\u001b[0;34m:\u001b[0m\u001b[0;34m\u001b[0m\u001b[0m\n\u001b[0;32m-> 2124\u001b[0;31m             \u001b[0;32mraise\u001b[0m \u001b[0mIOError\u001b[0m\u001b[0;34m(\u001b[0m\u001b[0;34m'cannot locate %s.shp'\u001b[0m\u001b[0;34m%\u001b[0m\u001b[0mshapefile\u001b[0m\u001b[0;34m)\u001b[0m\u001b[0;34m\u001b[0m\u001b[0m\n\u001b[0m\u001b[1;32m   2125\u001b[0m         \u001b[0;32mif\u001b[0m \u001b[0;32mnot\u001b[0m \u001b[0mos\u001b[0m\u001b[0;34m.\u001b[0m\u001b[0mpath\u001b[0m\u001b[0;34m.\u001b[0m\u001b[0mexists\u001b[0m\u001b[0;34m(\u001b[0m\u001b[0;34m'%s.shx'\u001b[0m\u001b[0;34m%\u001b[0m\u001b[0mshapefile\u001b[0m\u001b[0;34m)\u001b[0m\u001b[0;34m:\u001b[0m\u001b[0;34m\u001b[0m\u001b[0m\n\u001b[1;32m   2126\u001b[0m             \u001b[0;32mraise\u001b[0m \u001b[0mIOError\u001b[0m\u001b[0;34m(\u001b[0m\u001b[0;34m'cannot locate %s.shx'\u001b[0m\u001b[0;34m%\u001b[0m\u001b[0mshapefile\u001b[0m\u001b[0;34m)\u001b[0m\u001b[0;34m\u001b[0m\u001b[0m\n",
      "\u001b[0;31mIOError\u001b[0m: cannot locate st99_d90.shp"
     ]
    },
    {
     "data": {
      "text/plain": [
       "<matplotlib.figure.Figure at 0x1124c4e10>"
      ]
     },
     "metadata": {},
     "output_type": "display_data"
    }
   ],
   "source": [
    "#women \n",
    "from mpl_toolkits.basemap import Basemap\n",
    "%matplotlib inline\n",
    "import matplotlib.pyplot as plt\n",
    "import numpy as np\n",
    "\n",
    "plt.figure(figsize=(12,6))\n",
    "m = Basemap(llcrnrlon=-119,llcrnrlat=22,urcrnrlon=-64,urcrnrlat=49,\n",
    "             projection='lcc',lat_1=33,lat_2=45,lon_0=-95)\n",
    "m.readshapefile('st99_d90','states',drawbounds=True) \n",
    "\n",
    "for x in HHS1:\n",
    "    for polygon,info in zip(m.states,m.states_info):\n",
    "        if info['NAME'] == x:\n",
    "                mycmap = plt.cm.get_cmap('seismic')\n",
    "                xdata,ydata = zip(*polygon)\n",
    "                plt.fill(xdata,ydata, color =mycmap(.52))\n",
    "                \n",
    "for x in HHS2:\n",
    "    for polygon,info in zip(m.states,m.states_info):\n",
    "        if info['NAME'] == x:\n",
    "                mycmap = plt.cm.get_cmap('seismic')\n",
    "                xdata,ydata = zip(*polygon)\n",
    "                plt.fill(xdata,ydata, color =mycmap(.33))\n",
    "                \n",
    "for x in HHS3:\n",
    "    for polygon,info in zip(m.states,m.states_info):\n",
    "        if info['NAME'] == x:\n",
    "                mycmap = plt.cm.get_cmap('seismic')\n",
    "                xdata,ydata = zip(*polygon)\n",
    "                plt.fill(xdata,ydata, color =mycmap(.745))\n",
    "                \n",
    "for x in HHS4:\n",
    "    for polygon,info in zip(m.states,m.states_info):\n",
    "        if info['NAME'] == x:\n",
    "                mycmap = plt.cm.get_cmap('seismic')\n",
    "                xdata,ydata = zip(*polygon)\n",
    "                plt.fill(xdata,ydata, color =mycmap(.99999))\n",
    "                \n",
    "                \n",
    "for x in HHS5:\n",
    "    for polygon,info in zip(m.states,m.states_info):\n",
    "        if info['NAME'] == x:\n",
    "                mycmap = plt.cm.get_cmap('seismic')\n",
    "                xdata,ydata = zip(*polygon)\n",
    "                plt.fill(xdata,ydata, color =mycmap(.74))\n",
    "                \n",
    "for x in HHS6:\n",
    "    for polygon,info in zip(m.states,m.states_info):\n",
    "        if info['NAME'] == x:\n",
    "                mycmap = plt.cm.get_cmap('seismic')\n",
    "                xdata,ydata = zip(*polygon)\n",
    "                plt.fill(xdata,ydata, color =mycmap(.93))\n",
    "                \n",
    "for x in HHS7:\n",
    "    for polygon,info in zip(m.states,m.states_info):\n",
    "        if info['NAME'] == x:\n",
    "                mycmap = plt.cm.get_cmap('seismic')\n",
    "                xdata,ydata = zip(*polygon)\n",
    "                plt.fill(xdata,ydata, color =mycmap(.965))\n",
    "                \n",
    "                \n",
    "for x in HHS8:\n",
    "    for polygon,info in zip(m.states,m.states_info):\n",
    "        if info['NAME'] == x:\n",
    "                mycmap = plt.cm.get_cmap('seismic')\n",
    "                xdata,ydata = zip(*polygon)\n",
    "                plt.fill(xdata,ydata, color =mycmap(.77))\n",
    "                \n",
    "for x in HHS9:\n",
    "    for polygon,info in zip(m.states,m.states_info):\n",
    "        if info['NAME'] == x:\n",
    "                mycmap = plt.cm.get_cmap('seismic')\n",
    "                xdata,ydata = zip(*polygon)\n",
    "                plt.fill(xdata,ydata, color =mycmap(.515))\n",
    "                \n",
    "for x in HHS10:\n",
    "    for polygon,info in zip(m.states,m.states_info):\n",
    "        if info['NAME'] == x:\n",
    "                mycmap = plt.cm.get_cmap('seismic')\n",
    "                xdata,ydata = zip(*polygon)\n",
    "                plt.fill(xdata,ydata, color =mycmap(.75))"
   ]
  },
  {
   "cell_type": "code",
   "execution_count": 90,
   "metadata": {
    "collapsed": false
   },
   "outputs": [
    {
     "name": "stdout",
     "output_type": "stream",
     "text": [
      "Pearson Correlation: Male and Female Slopes = (0.88261531562014994, 0.00071927965514612991)\n"
     ]
    }
   ],
   "source": [
    "totalMaleSlopes = [slopeM1, slopeM2, slopeM3, slopeM4, slopeM5, slopeM6, slopeM7, slopeM8, slopeM9, slopeM10]\n",
    "totalFemaleSlopes = [slopeF1, slopeF2, slopeF3, slopeF4, slopeF5, slopeF6, slopeF7, slopeF8, slopeF9, slopeF10]\n",
    "maleFemaleCorr = stats.pearsonr(totalMaleSlopes, totalFemaleSlopes)\n",
    "print 'Pearson Correlation: Male and Female Slopes =', maleFemaleCorr"
   ]
  },
  {
   "cell_type": "code",
   "execution_count": null,
   "metadata": {
    "collapsed": true
   },
   "outputs": [],
   "source": []
  }
 ],
 "metadata": {
  "anaconda-cloud": {},
  "kernelspec": {
   "display_name": "Python [Root]",
   "language": "python",
   "name": "Python [Root]"
  },
  "language_info": {
   "codemirror_mode": {
    "name": "ipython",
    "version": 2
   },
   "file_extension": ".py",
   "mimetype": "text/x-python",
   "name": "python",
   "nbconvert_exporter": "python",
   "pygments_lexer": "ipython2",
   "version": "2.7.12"
  }
 },
 "nbformat": 4,
 "nbformat_minor": 0
}
