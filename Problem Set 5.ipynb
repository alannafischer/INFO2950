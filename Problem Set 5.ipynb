{
 "cells": [
  {
   "cell_type": "markdown",
   "metadata": {},
   "source": [
    "# Alanna Fischer (aef222)\n",
    "\n",
    "Problem Set 5"
   ]
  },
  {
   "cell_type": "markdown",
   "metadata": {},
   "source": [
    "Questions 1 & 2 are done on paper. I recieved help from other students during office hours on 2C and part of 4b, but figured out how to do it on my own."
   ]
  },
  {
   "cell_type": "markdown",
   "metadata": {},
   "source": [
    "# Question 3"
   ]
  },
  {
   "cell_type": "code",
   "execution_count": 1,
   "metadata": {
    "collapsed": true
   },
   "outputs": [],
   "source": [
    "from ps5_data import results2012,results2016"
   ]
  },
  {
   "cell_type": "code",
   "execution_count": 2,
   "metadata": {
    "collapsed": false
   },
   "outputs": [
    {
     "name": "stdout",
     "output_type": "stream",
     "text": [
      "27.983807\n",
      "[43.51386, 33.231283, 27.983807, 52.840514, 57.292792, 36.934373, 52.867625, 50.143426, 43.813917, 40.55549, 41.372889, 37.827206, 58.413685, 59.263006, 35.506308, 58.608316, 38.924412, 51.951193, 41.270714, 44.264473, 39.865272, 51.18366, 58.030334, 55.848098, 62.624613, 52.299316, 45.440901, 61.700854, 32.607679, 44.120374, 52.801909, 54.303915, 24.852459, 50.843122, 54.486442, 41.822039, 52.208893, 60.757468, 44.018543, 67.028734, 50.001978, 70.569088, 37.809673, 62.723947, 37.793808, 91.363808, 52.13574, 38.437564, 48.418962, 39.014305, 55.96352]\n",
      "[55.543639, 66.768717, 69.273959, 45.121242, 41.054625, 60.511775, 42.975856, 48.219662, 54.27136, 57.80929, 57.213538, 59.997578, 40.419745, 38.348258, 62.330592, 39.985115, 58.652701, 46.807531, 55.295919, 53.879636, 57.88944, 46.509564, 40.938273, 41.7153, 35.977435, 45.73432, 53.396975, 36.550326, 64.544979, 54.188802, 46.088465, 44.781577, 72.75493, 47.750422, 42.652459, 55.273621, 46.4488, 37.638094, 54.623046, 31.183353, 49.137902, 27.822042, 60.505661, 35.519457, 60.51265, 7.124365, 46.484219, 60.660319, 50.585314, 59.484797, 40.864144]\n",
      "[6, 7, 3, 10, 20, 6, 5, 18, 11, 8, 38, 6, 7, 55, 5, 3, 3, 20, 3, 10, 3, 9, 14, 12, 29, 6, 16, 10, 4, 11, 10, 16, 6, 13, 7, 3, 4, 11, 9, 3, 29, 4, 8, 4, 5, 3, 6, 9, 15, 11, 4]\n",
      "[-12.029778999999998, -33.537434, -41.290152000000006, 7.719271999999997, 16.238166999999997, -23.577402, 9.891768999999996, 1.9237639999999985, -10.457443000000005, -17.2538, -15.840648999999999, -22.170372, 17.993940000000002, 20.914747999999996, -26.824284000000006, 18.623201, -19.728289000000004, 5.143662000000006, -14.025205, -9.615162999999995, -18.024168000000003, 4.674096000000006, 17.092061, 14.132798000000001, 26.647177999999997, 6.564996000000001, -7.956074000000001, 25.150528, -31.9373, -10.068428000000004, 6.713444000000003, 9.522338000000005, -47.902471000000006, 3.0927000000000007, 11.833982999999996, -13.451582000000002, 5.760093000000005, 23.119374, -10.604503000000001, 35.845381, 0.8640760000000043, 42.747046, -22.695988000000007, 27.20449, -22.718842000000002, 84.23944300000001, 5.651520999999995, -22.222755, -2.1663519999999963, -20.470492, 15.099376]\n"
     ]
    }
   ],
   "source": [
    "values = []\n",
    "\n",
    "for state in results2012.values():\n",
    "    values.append(state)\n",
    "print values[2][\"Barack Obama\"] \n",
    "\n",
    "obamavote = []\n",
    "romneyvote= []\n",
    "votes= []\n",
    "count = 0 \n",
    "\n",
    "for a in values: \n",
    "    obamavote.append(values[count][\"Barack Obama\"])\n",
    "    romneyvote.append(values[count][\"Mitt Romney\"])\n",
    "    votes.append(values[count][\"electoral_votes\"])\n",
    "    count = count + 1\n",
    "    \n",
    "print obamavote\n",
    "print romneyvote\n",
    "print votes\n",
    "\n",
    "margin= []\n",
    "count2= 0 \n",
    "\n",
    "for b in obamavote:\n",
    "    margin.append(obamavote[count2]-romneyvote[count2])\n",
    "    count2 = count2 + 1\n",
    "    \n",
    "print margin"
   ]
  },
  {
   "cell_type": "code",
   "execution_count": 3,
   "metadata": {
    "collapsed": false
   },
   "outputs": [
    {
     "data": {
      "text/plain": [
       "(-40, 40)"
      ]
     },
     "execution_count": 3,
     "metadata": {},
     "output_type": "execute_result"
    },
    {
     "data": {
      "image/png": "[encoded data removed]",
      "text/plain": [
       "<matplotlib.figure.Figure at 0x103d63250>"
      ]
     },
     "metadata": {},
     "output_type": "display_data"
    }
   ],
   "source": [
    "import matplotlib.pyplot as plt\n",
    "%matplotlib inline\n",
    "import numpy as np\n",
    "\n",
    "margin=np.array(margin);\n",
    "votes=np.array(votes);\n",
    "\n",
    "plt.hist(margin[margin>0],weights=votes[margin>0],bins=range(-100,100,2))\n",
    "plt.hist(margin[margin<0],weights=votes[margin<0],bins=range(-100,100,2),color='r')\n",
    "plt.xlabel('Margin')\n",
    "plt.ylabel('Electoral votes')\n",
    "plt.title('2012 Romney vs Obama results')\n",
    "plt.xlim(-40,40)"
   ]
  },
  {
   "cell_type": "code",
   "execution_count": 4,
   "metadata": {
    "collapsed": false
   },
   "outputs": [
    {
     "name": "stdout",
     "output_type": "stream",
     "text": [
      "68.2\n",
      "[40.1, 28.9, 21.9, 46.4, 55.2, 33.7, 48.3, 43.2, 37.5, 38.4, 43.2, 35.7, 54.6, 61.5, 26.2, 45.3, 27.2, 47.5, 36.6, 40.7, 37.9, 31.7, 48.2, 55.0, 52.5, 59.0, 47.9, 90.9, 60.3, 27.5, 44.6, 46.5, 47.0, 27.2, 49.8, 50.1, 35.4, 46.8, 60.0, 53.1, 56.7, 47.4, 62.2, 32.7, 54.4, 33.7, 41.7, 34.4, 46.2, 34.7, 47.8]\n",
      "[57.9, 65.3, 68.2, 44.9, 38.4, 60.6, 40.0, 51.3, 56.5, 58.1, 52.2, 56.2, 40.9, 31.5, 67.9, 50.4, 63.0, 48.2, 51.3, 54.9, 56.4, 61.5, 43.3, 41.0, 36.8, 36.5, 45.5, 4.1, 33.9, 59.2, 48.1, 47.2, 47.3, 45.1, 44.4, 39.1, 55.6, 46.5, 32.8, 41.7, 30.3, 48.6, 30.0, 62.5, 38.9, 58.7, 51.1, 62.1, 49.8, 60.7, 44.9]\n",
      "[6, 7, 3, 10, 20, 6, 5, 18, 11, 8, 38, 6, 7, 55, 5, 16, 3, 20, 3, 9, 10, 3, 9, 14, 12, 29, 6, 3, 10, 4, 11, 10, 16, 6, 13, 7, 3, 4, 11, 3, 3, 29, 4, 8, 4, 5, 6, 9, 15, 11, 4]\n",
      "[-17.799999999999997, -36.4, -46.300000000000004, 1.5, 16.800000000000004, -26.9, 8.299999999999997, -8.099999999999994, -19.0, -19.700000000000003, -9.0, -20.5, 13.700000000000003, 30.0, -41.7, -5.100000000000001, -35.8, -0.7000000000000028, -14.699999999999996, -14.199999999999996, -18.5, -29.8, 4.900000000000006, 14.0, 15.700000000000003, 22.5, 2.3999999999999986, 86.80000000000001, 26.4, -31.700000000000003, -3.5, -0.7000000000000028, -0.29999999999999716, -17.900000000000002, 5.399999999999999, 11.0, -20.200000000000003, 0.29999999999999716, 27.200000000000003, 11.399999999999999, 26.400000000000002, -1.2000000000000028, 32.2, -29.799999999999997, 15.5, -25.0, -9.399999999999999, -27.700000000000003, -3.5999999999999943, -26.0, 2.8999999999999986]\n"
     ]
    }
   ],
   "source": [
    "values = []\n",
    "\n",
    "for state in results2016.values():\n",
    "    values.append(state)\n",
    "print values[2][\"Trump\"] \n",
    "\n",
    "clintonvote = []\n",
    "trumpvote= []\n",
    "votes= []\n",
    "count = 0 \n",
    "\n",
    "for b in values: \n",
    "    clintonvote.append(values[count][\"Clinton\"])\n",
    "    trumpvote.append(values[count][\"Trump\"])\n",
    "    votes.append(values[count][\"electoral_votes\"])\n",
    "    count = count + 1\n",
    "    \n",
    "print clintonvote\n",
    "print trumpvote\n",
    "print votes\n",
    "\n",
    "margin= []\n",
    "count2= 0 \n",
    "\n",
    "for b in clintonvote:\n",
    "    margin.append(clintonvote[count2]-trumpvote[count2])\n",
    "    count2 = count2 + 1\n",
    "    \n",
    "print margin"
   ]
  },
  {
   "cell_type": "code",
   "execution_count": 5,
   "metadata": {
    "collapsed": false
   },
   "outputs": [
    {
     "data": {
      "text/plain": [
       "(-40, 40)"
      ]
     },
     "execution_count": 5,
     "metadata": {},
     "output_type": "execute_result"
    },
    {
     "data": {
      "image/png": "[encoded data removed]",
      "text/plain": [
       "<matplotlib.figure.Figure at 0x10c6898d0>"
      ]
     },
     "metadata": {},
     "output_type": "display_data"
    }
   ],
   "source": [
    "import matplotlib.pyplot as plt\n",
    "%matplotlib inline\n",
    "import numpy as np\n",
    "\n",
    "margin=np.array(margin);\n",
    "votes=np.array(votes);\n",
    "\n",
    "plt.hist(margin[margin>0],weights=votes[margin>0],bins=range(-100,100,2))\n",
    "plt.hist(margin[margin<0],weights=votes[margin<0],bins=range(-100,100,2),color='r')\n",
    "plt.xlabel('Margin')\n",
    "plt.ylabel('Electoral votes')\n",
    "plt.title('2016 Trump vs Clinton results')\n",
    "plt.xlim(-40,40)\n",
    "\n",
    "#plt.annotate(...)\n",
    "#plt.annotate(...)"
   ]
  },
  {
   "cell_type": "markdown",
   "metadata": {
    "collapsed": true
   },
   "source": [
    "# Question 4"
   ]
  },
  {
   "cell_type": "code",
   "execution_count": 6,
   "metadata": {
    "collapsed": false
   },
   "outputs": [],
   "source": [
    "import numpy as np\n",
    "import math \n",
    "from scipy.stats import norm\n",
    "%matplotlib inline\n",
    "from ps5_data import mean_std\n",
    "from ps5_data import results2012,results2016\n",
    "from scipy.stats import norm"
   ]
  },
  {
   "cell_type": "markdown",
   "metadata": {},
   "source": [
    "# A)"
   ]
  },
  {
   "cell_type": "markdown",
   "metadata": {},
   "source": [
    "i."
   ]
  },
  {
   "cell_type": "markdown",
   "metadata": {},
   "source": [
    "p=0.5 std=0.027\n",
    "\n",
    "SD= sqrt(p(1-p)/n)\n",
    "\n",
    "0.027=sqrt((.50*.50)/n)\n",
    "\n",
    "0.000729=.25/n\n",
    "\n",
    "n=342.9"
   ]
  },
  {
   "cell_type": "markdown",
   "metadata": {},
   "source": [
    "ii."
   ]
  },
  {
   "cell_type": "markdown",
   "metadata": {
    "collapsed": false
   },
   "source": [
    "Smallest STD = Georgia = 0.02572\n",
    "\n",
    "mean= 0.52006\n",
    "\n",
    "n=  377"
   ]
  },
  {
   "cell_type": "markdown",
   "metadata": {},
   "source": [
    "iii."
   ]
  },
  {
   "cell_type": "markdown",
   "metadata": {},
   "source": [
    "Largest STD = Nebraska 2nd District = 0.063\n",
    "\n",
    "mean = 0.508\n",
    "\n",
    "n= 65\n",
    "\n",
    "(Wyoming had the largest of a full state with a STD= 0.058 and a mean of 0.67 and n= 65)\n"
   ]
  },
  {
   "cell_type": "markdown",
   "metadata": {},
   "source": [
    "# B)"
   ]
  },
  {
   "cell_type": "code",
   "execution_count": 7,
   "metadata": {
    "collapsed": false
   },
   "outputs": [],
   "source": [
    "def trial():\n",
    "    clinton=0\n",
    "    trump=0\n",
    "    winner = ''\n",
    "    for state in results2016: \n",
    "        firststate= state\n",
    "        if firststate == \"Nebraska\":\n",
    "            firststate = \"Nebraska - statewide\"\n",
    "        if firststate == \"Maine\":\n",
    "            firststate = \"Maine - statewide\"\n",
    "        mean= mean_std[firststate][0]\n",
    "        std1= mean_std[firststate][1]\n",
    "        p=norm.rvs(mean, std1)\n",
    "        if p < 0.5:\n",
    "            clinton += results2016[state][\"electoral_votes\"]\n",
    "        if p > 0.5:\n",
    "            trump += results2016[state][\"electoral_votes\"]\n",
    "    if clinton > trump:\n",
    "        winnter = \"Clinton\"\n",
    "    if trump > clinton:\n",
    "        winner = \"Trump\"\n",
    "    \n",
    "    return[winner, clinton, trump]         "
   ]
  },
  {
   "cell_type": "code",
   "execution_count": 8,
   "metadata": {
    "collapsed": false
   },
   "outputs": [
    {
     "name": "stdout",
     "output_type": "stream",
     "text": [
      "Hillary Clinton has a 0.0 chance of winning and 301.3834 expeced electoral votes\n",
      "Donald Trump has a 0.1166 chance of winning and 236.6166 expeced electoral votes\n"
     ]
    }
   ],
   "source": [
    "clintonwin= 0\n",
    "trumpwin= 0\n",
    "clintonvote= 0\n",
    "trumpvote= 0\n",
    "\n",
    "for a in range(10000):\n",
    "    result= trial()\n",
    "    if result[0] == \"Clinton\":\n",
    "        clintonwin += 1\n",
    "    if result[0] == \"Trump\":\n",
    "        trumpwin += 1\n",
    "    clintonvote += result[1]\n",
    "    trumpvote += result[2]\n",
    "\n",
    "print \"Hillary Clinton has a \" + str(clintonwin/10000.0) + \" chance of winning and \" + str(clintonvote/10000.0) + \" expeced electoral votes\"\n",
    "print \"Donald Trump has a \" + str(trumpwin/10000.0) + \" chance of winning and \" + str(trumpvote/10000.0) + \" expeced electoral votes\""
   ]
  },
  {
   "cell_type": "code",
   "execution_count": null,
   "metadata": {
    "collapsed": true
   },
   "outputs": [],
   "source": []
  }
 ],
 "metadata": {
  "anaconda-cloud": {},
  "kernelspec": {
   "display_name": "Python [Root]",
   "language": "python",
   "name": "Python [Root]"
  },
  "language_info": {
   "codemirror_mode": {
    "name": "ipython",
    "version": 2
   },
   "file_extension": ".py",
   "mimetype": "text/x-python",
   "name": "python",
   "nbconvert_exporter": "python",
   "pygments_lexer": "ipython2",
   "version": "2.7.12"
  }
 },
 "nbformat": 4,
 "nbformat_minor": 0
}
